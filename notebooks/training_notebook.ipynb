{
 "cells": [
  {
   "cell_type": "markdown",
   "metadata": {
    "id": "rCNGzIuXBITI"
   },
   "source": [
    "# Example training notebook.\n",
    "\n",
    "https://registry.opendata.aws/elp-nouabale-landscape/\n"
   ]
  },
  {
   "cell_type": "code",
   "execution_count": 31,
   "metadata": {
    "colab": {
     "base_uri": "https://localhost:8080/"
    },
    "id": "ugs0-6t2BJ8h",
    "outputId": "e0058f39-9e43-49d7-f9a7-f179bee47f35"
   },
   "outputs": [],
   "source": [
    "import os\n",
    "if os.environ.get('COLAB_RELEASE_TAG'):\n",
    "  if not os.path.exists(\"data\"):\n",
    "    from google.colab import drive\n",
    "    drive.mount('/content/drive')\n",
    "    os.symlink('/content/drive/MyDrive/AI for Forest Elephants 2 Shared/01. Data/cornell_data', \"./data\")\n",
    "  %pip install --quiet torchshow\n",
    "  %pip install --quiet torchlens\n",
    "  %pip install --quiet einops\n",
    "  %pip install --quiet umap-learn"
   ]
  },
  {
   "cell_type": "code",
   "execution_count": 32,
   "metadata": {
    "colab": {
     "base_uri": "https://localhost:8080/"
    },
    "id": "L9dPy4cHBITJ",
    "outputId": "6932ffad-d31b-44cb-bc68-82097cc67e88"
   },
   "outputs": [
    {
     "name": "stdout",
     "output_type": "stream",
     "text": [
      "using cuda\n",
      "2.3.1+cu121 2.3.1+cu121 True\n"
     ]
    }
   ],
   "source": [
    "import csv\n",
    "import duckdb\n",
    "import einops\n",
    "import gc\n",
    "import glob\n",
    "import IPython.display as ipd\n",
    "import librosa\n",
    "import librosa.display\n",
    "import matplotlib\n",
    "import matplotlib.pyplot as plt \n",
    "import numpy as np\n",
    "import os\n",
    "import pandas as pd\n",
    "import re\n",
    "import scipy.signal as signal\n",
    "import soundfile as sf\n",
    "import time\n",
    "import torch\n",
    "import torchaudio\n",
    "import torchaudio.io as tai\n",
    "import torchaudio.functional as taf\n",
    "import torchaudio.transforms as tat\n",
    "import torchlens as tl\n",
    "import tqdm\n",
    "import umap\n",
    "\n",
    "from dataclasses import dataclass\n",
    "from scipy import signal\n",
    "from scipy.signal import butter, lfilter, freqz\n",
    "from torchaudio.io import StreamReader\n",
    "\n",
    "pd.set_option('display.max_rows', 100)  # or a larger number, as needed\n",
    "pd.set_option('display.max_columns', 100)  # or a larger number, as needed\n",
    "pd.set_option('display.max_colwidth', 200)  # or a larger number, as needed\n",
    "pd.set_option('display.width', 1024)  # or a larger number, as needed\n",
    "\n",
    "DEVICE = \"cuda\" if torch.cuda.is_available() else \"cpu\"\n",
    "\n",
    "print(f\"using {DEVICE}\")\n",
    "\n",
    "# Arnaud's trick of upshifting the rumbles to human hearing range...\n",
    "# ... but taken a step further.   The pretrained models work **great**\n",
    "# on high-pitched birds, \n",
    "#\n",
    "# Fairseq defauls to assuming 16Khz audio\n",
    "# https://github.com/facebookresearch/fairseq/issues/1280\n",
    "#\n",
    "# By picking a lowSR like 1000, (16000 / 1000 = 16) that's like upshifting by 4 octaves. (humans)\n",
    "# By picking an extreme SR like 250, (16000 / 250 = 64) that's like upshifting by 6 octaves. (small birds)\n",
    "\n",
    "AVES_SR = 250 * 2\n",
    "EXPERIMENT_NAME = 'with_normalization' # rumble classifier 3\n",
    "DEFAULT_SR = None\n",
    "N_FFT = None\n",
    "DEBUG = True\n",
    "\n",
    "os.makedirs('tmp/aves',exist_ok=True)\n",
    "print(torch.__version__, torchaudio.__version__,  torch.cuda.is_available())"
   ]
  },
  {
   "cell_type": "code",
   "execution_count": 33,
   "metadata": {},
   "outputs": [],
   "source": [
    "import elephant_rumble_inference as eri\n",
    "\n",
    "DEVICE = \"cuda\" if torch.cuda.is_available() else \"cpu\"\n",
    "\n",
    "aves_hubert_model = eri.AvesTorchaudioWrapper().to(DEVICE)\n",
    "elephant_rumble_classifier = eri.ElephantRumbleClassifier().to('cpu')\n",
    "aves_hubert_model.eval() # only train our layers - give up on fine-tuning AVES\n",
    "\n",
    "raven_file_helper     = eri.RavenFileHelper(\"./data/Rumble\")\n",
    "audio_file_visualizer = eri.AudioFileVisualizer()\n",
    "audio_file_processor  = eri.AudioFileProcessor(aves_hubert_model,elephant_rumble_classifier,device=DEVICE)\n"
   ]
  },
  {
   "cell_type": "markdown",
   "metadata": {},
   "source": [
    "### Visualize this model"
   ]
  },
  {
   "cell_type": "code",
   "execution_count": 34,
   "metadata": {
    "id": "tQSHfzY-S6hw"
   },
   "outputs": [],
   "source": [
    "if visualize_model := False:\n",
    "  model_history = tl.log_forward_pass(aves_hubert_model, torch.rand(1, 1000), layers_to_save='all', vis_opt='rolled')\n",
    "  print(model_history)\n"
   ]
  },
  {
   "cell_type": "code",
   "execution_count": 35,
   "metadata": {},
   "outputs": [
    {
     "name": "stdout",
     "output_type": "stream",
     "text": [
      "  loaded audio in 0.9024004936218262\n",
      "  duration intended= 300 actual= 300.0\n",
      "  did stft in 0.9141209125518799\n",
      "  coloring at 0.9340720176696777\n",
      "  plotting at 0.936154842376709\n",
      "  specshow done at 1.0276658535003662\n",
      "  saving at 1.0293893814086914\n",
      "  visualizations saved to /tmp/1.png at 2.005542755126953\n"
     ]
    }
   ],
   "source": [
    "\n",
    "########################################\n",
    "###Testing\n",
    "########################################\n",
    "if DEBUG:\n",
    "    audio_file = 'CEB1_20111010_000000.wav'\n",
    "    start_time = 0\n",
    "    duration = 60 * 60\n",
    "    audio_path = raven_file_helper.audio_filename_to_path[audio_file]\n",
    "    y = raven_file_helper.get_downsampled_tensor(audio_file,start_time,duration+start_time,new_sr=AVES_SR)\n",
    "    audio_file_visualizer.visualize_audio_file_fragment(\n",
    "        f\"{audio_file} and scores\",\n",
    "        '/tmp/1.png',\n",
    "        audio_path,\n",
    "        torch.rand(y.shape[0]),\n",
    "        torch.rand(y.shape[0]),\n",
    "        audio_file_processor,\n",
    "        start_time=0,\n",
    "        end_time=60*5,\n",
    "        colormap='raw',\n",
    "        width=55\n",
    "    )\n",
    "    from PIL import Image\n",
    "    Image.open('/tmp/1.png')\n",
    "########################################\n",
    "# good so far\n",
    "########################################\n"
   ]
  },
  {
   "cell_type": "code",
   "execution_count": 36,
   "metadata": {},
   "outputs": [],
   "source": [
    "def get_aves_embeddings(y):\n",
    "    with torch.inference_mode(): # torch.no_grad():\n",
    "      y32 = y.to(torch.float32).view(1,y.shape[0])\n",
    "      aves_embeddings = aves_hubert_model.forward(y32.to(DEVICE)).to('cpu').detach()\n",
    "      del(y32)\n",
    "      reshaped_tensor = einops.rearrange(aves_embeddings, '1 n d -> n d')  # remove that batch dimension\n",
    "      del(aves_embeddings)\n",
    "      if torch.cuda.is_available():\n",
    "        torch.cuda.empty_cache()\n",
    "      return reshaped_tensor.to('cpu').detach()\n",
    "\n",
    "if DEBUG:\n",
    "  ae = get_aves_embeddings(y)\n"
   ]
  },
  {
   "cell_type": "code",
   "execution_count": 37,
   "metadata": {},
   "outputs": [
    {
     "data": {
      "image/png": "[encoded data removed]",
      "text/plain": [
       "<Figure size 640x480 with 1 Axes>"
      ]
     },
     "metadata": {},
     "output_type": "display_data"
    }
   ],
   "source": [
    "def get_normalized_aves_embeddings(y):\n",
    "    with torch.inference_mode(): # torch.no_grad():\n",
    "      embs = get_aves_embeddings(y)\n",
    "      norms = embs.norm(p=2, dim=1, keepdim=True)\n",
    "      unit_vecs = embs / norms\n",
    "      return unit_vecs.to('cpu').detach()\n",
    "\n",
    "if DEBUG:\n",
    "  nae = get_normalized_aves_embeddings(y)\n",
    "  plt.imshow((nae @ nae.T)[0:1000,0:1000])\n",
    "  plt.show()\n"
   ]
  },
  {
   "cell_type": "code",
   "execution_count": 38,
   "metadata": {
    "id": "NrluaIXrBITQ"
   },
   "outputs": [
    {
     "name": "stderr",
     "output_type": "stream",
     "text": [
      "100%|██████████| 30/30 [00:00<00:00, 1020.98it/s]"
     ]
    },
    {
     "name": "stdout",
     "output_type": "stream",
     "text": [
      "tensor([[1.0000, 0.7040, 0.6740, 0.7029, 0.7027],\n",
      "        [0.7040, 1.0000, 0.9565, 0.8990, 0.8809],\n",
      "        [0.6740, 0.9565, 1.0000, 0.9449, 0.9138],\n",
      "        [0.7029, 0.8990, 0.9449, 1.0000, 0.9516],\n",
      "        [0.7027, 0.8809, 0.9138, 0.9516, 1.0000]])\n"
     ]
    },
    {
     "name": "stderr",
     "output_type": "stream",
     "text": [
      "\n"
     ]
    }
   ],
   "source": [
    "def get_aves_embedding_cache_filename(audio_file,start,duration,preroll,postroll,sr):\n",
    "   prefix = f\"tmp/aves_embedding_cache/{sr}-{preroll}-{postroll}/{audio_file}\"\n",
    "   filename = f\"{prefix}/{start}-{duration}.pt\"\n",
    "   os.makedirs(prefix,exist_ok=True)\n",
    "   return filename\n",
    "\n",
    "def get_aves_embeddings_from_file_with_buffers(audio_file,start,duration,preroll,postroll,sr=AVES_SR):\n",
    "    cachefile = get_aves_embedding_cache_filename(audio_file,start,duration,preroll,postroll,sr)\n",
    "    if os.path.exists(cachefile):\n",
    "        return torch.load(cachefile,mmap=True)#.to('cpu').detach()\n",
    "    if preroll > start:\n",
    "        preroll = start\n",
    "    y = raven_file_helper.get_downsampled_tensor(audio_file,start-preroll,duration+preroll+postroll,new_sr=sr)\n",
    "    unit_vecs = get_normalized_aves_embeddings(y)#.to('cpu').detach()\n",
    "    preroll_index = int(audio_file_processor.time_to_score_index(preroll))\n",
    "    postroll_index = int(audio_file_processor.time_to_score_index(preroll+duration))\n",
    "    # .clone().detatch() to avoid saving the entire original vector\n",
    "    relevant_unit_vecs = unit_vecs[preroll_index:postroll_index].clone().detach()\n",
    "    torch.save(relevant_unit_vecs,cachefile)\n",
    "    return relevant_unit_vecs\n",
    "\n",
    "\n",
    "def get_interesting_embeddings(audio_file,labels,max_labels=9999,sr=AVES_SR):\n",
    "    interesting_embs = []\n",
    "    labels = labels[:max_labels]\n",
    "    with tqdm.tqdm(total=len(labels)) as pbar:\n",
    "        for idx,row in enumerate(labels):\n",
    "            unit_vecs = get_aves_embeddings_from_file_with_buffers(audio_file,row.bt,row.duration,500,200,sr)\n",
    "            if mean_embedding_per_label := False:\n",
    "                mean_tensor = einops.reduce(unit_vecs, 'h w -> w', 'mean')\n",
    "                mean_tensor = mean_tensor / mean_tensor.norm(p=2)\n",
    "                interesting_embs.append(mean_tensor.unsqueeze(0))\n",
    "            elif trim_labels := False:\n",
    "                # Idea - Trim training data bounding boxes that extend beyond the actual rumble\n",
    "                interesting_embs.append(unit_vecs[3:-3])\n",
    "            else:\n",
    "                interesting_embs.append(unit_vecs)\n",
    "            if idx >= max_labels:\n",
    "                break\n",
    "            #del(y,unit_vecs,mean_tensor)\n",
    "            pbar.update(1)\n",
    "        return torch.concat(interesting_embs)\n",
    "    \n",
    "if DEBUG:\n",
    "    audio_file = 'CEB1_20111010_000000.wav'\n",
    "    labels = raven_file_helper.get_all_labels_for_wav_file(audio_file)\n",
    "    interesting_embs = get_interesting_embeddings(audio_file,labels,max_labels=30)\n",
    "    print((interesting_embs @ interesting_embs.T)[0:5,0:5])\n",
    "\n",
    "\n"
   ]
  },
  {
   "cell_type": "markdown",
   "metadata": {},
   "source": [
    "## "
   ]
  },
  {
   "cell_type": "code",
   "execution_count": 39,
   "metadata": {},
   "outputs": [
    {
     "name": "stdout",
     "output_type": "stream",
     "text": [
      "found 467 labels and 319 negative labels in CEB1_20111010_000000.wav\n"
     ]
    },
    {
     "name": "stderr",
     "output_type": "stream",
     "text": [
      "100%|██████████| 467/467 [00:00<00:00, 926.70it/s] \n",
      "100%|██████████| 319/319 [00:03<00:00, 79.99it/s] "
     ]
    },
    {
     "name": "stdout",
     "output_type": "stream",
     "text": [
      "torch.Size([3140, 768]) torch.Size([26440, 768]) tensor([[-0.0020, -0.0129, -0.0109],\n",
      "        [-0.0126,  0.0046,  0.0090],\n",
      "        [-0.0095,  0.0040,  0.0095]]) tensor([[ 0.0078, -0.0220, -0.0023],\n",
      "        [ 0.0056, -0.0037, -0.0091],\n",
      "        [-0.0014,  0.0070, -0.0062]])\n"
     ]
    },
    {
     "name": "stderr",
     "output_type": "stream",
     "text": [
      "\n"
     ]
    }
   ],
   "source": [
    "\n",
    "def get_embeddings_for_labels_in_file(audio_file):\n",
    "    gc.collect()\n",
    "    labels = raven_file_helper.get_all_labels_for_wav_file(audio_file)\n",
    "    if len(labels) < 2:\n",
    "        return (None,None)\n",
    "    negative_labels = raven_file_helper.get_negative_labels(labels)\n",
    "    if len(negative_labels) < 2:\n",
    "        return (None,None)\n",
    "    print(f\"found {len(labels)} labels and {len(negative_labels)} negative labels in {audio_file}\")\n",
    "    interesting_embs = get_interesting_embeddings(audio_file,labels,9999,sr=AVES_SR)\n",
    "    uninteresting_embs = get_interesting_embeddings(audio_file,negative_labels,9999,sr=AVES_SR)\n",
    "    return interesting_embs, uninteresting_embs\n",
    "\n",
    "if DEBUG:\n",
    "    ie,ue = get_embeddings_for_labels_in_file('CEB1_20111010_000000.wav')\n",
    "    print(ie.shape,ue.shape,ie[0:3,0:3],ue[0:3,0:3])"
   ]
  },
  {
   "cell_type": "code",
   "execution_count": 40,
   "metadata": {
    "id": "48608n6NFvRM"
   },
   "outputs": [
    {
     "name": "stdout",
     "output_type": "stream",
     "text": [
      "first interesting hour is at 0.0\n",
      "  loaded audio in 0.061252593994140625\n",
      "  duration intended= 600 actual= 600.0\n",
      "  did stft in 0.09587597846984863\n",
      "  coloring at 0.13846397399902344\n",
      "  plotting at 0.14960861206054688\n",
      "  specshow done at 0.3495171070098877\n",
      "  saving at 0.36727428436279297\n",
      "  visualizations saved to /tmp/2.png at 1.9046978950500488\n"
     ]
    }
   ],
   "source": [
    "\n",
    "def visualize_naive_aves_base_model_on_file(audio_file,interesting_embs,uninteresting_embs):\n",
    "    labels = raven_file_helper.get_all_labels_for_wav_file(audio_file)\n",
    "    if len(labels) < 2:\n",
    "        return\n",
    "    if interesting_embs is None or uninteresting_embs is None:\n",
    "        print(\"all labels were too short?\")\n",
    "        return\n",
    "    first_interesting_hour = labels[0].bt//60//60\n",
    "    if first_interesting_hour > 24:\n",
    "        print(\"Debug this out of memory error later\")\n",
    "        return\n",
    "    print(f\"first interesting hour is at {first_interesting_hour}\")\n",
    "    start_time = first_interesting_hour*60*60\n",
    "    duration = 60 * 60\n",
    "\n",
    "    first_hour_embs = get_aves_embeddings_from_file_with_buffers(audio_file,start_time, duration,100,30,sr=AVES_SR).to('cpu')\n",
    "\n",
    "    multi_similarity = first_hour_embs @ interesting_embs.T\n",
    "    multi_dissimilarity = first_hour_embs @ uninteresting_embs.T\n",
    "\n",
    "    similarity = einops.reduce(multi_similarity, 'h w -> h', 'max')\n",
    "    dissimilarity = einops.reduce(multi_dissimilarity, 'h w -> h', 'max')\n",
    "\n",
    "    #visualization_helper.visualize_similarity_on_spectrogams(\n",
    "    ##    audio_file, start_time,duration,similarity,\n",
    "    #    dissimilarity,sr=500,n_fft=512,modelname=\"AVES_base_model\")\n",
    "    \n",
    "    audio_file_visualizer.visualize_audio_file_fragment(\n",
    "        f\"{audio_file} and scores\",\n",
    "        '/tmp/2.png',\n",
    "        audio_path,\n",
    "        similarity,\n",
    "        dissimilarity,\n",
    "        audio_file_processor,\n",
    "        start_time=0,\n",
    "        end_time=60*10,\n",
    "        colormap='raw',\n",
    "        width=55,\n",
    "        labels = labels\n",
    "    )\n",
    "#from PIL import Image\n",
    "#Image.open('/tmp/2.png')\n",
    "if DEBUG:\n",
    "    visualize_naive_aves_base_model_on_file(audio_file,ie[0:10],ue[0:10])\n",
    "    \n"
   ]
  },
  {
   "cell_type": "markdown",
   "metadata": {},
   "source": [
    "## Datasset and DataLoader helper methods"
   ]
  },
  {
   "cell_type": "code",
   "execution_count": 41,
   "metadata": {
    "id": "uql8lGKlBITR"
   },
   "outputs": [],
   "source": [
    "import numpy as np\n",
    "import torch\n",
    "from torch.utils.data import Dataset, DataLoader\n",
    "\n",
    "class MyDataset(Dataset):\n",
    "  def __init__(self, inputs, labels):\n",
    "    self.inputs = inputs\n",
    "    self.labels = torch.tensor([1 if l == 'rumble' else 0 for l in labels]) # convert labels to binary\n",
    "    self.len = self.labels.shape[0]\n",
    "\n",
    "  def __getitem__(self, index):\n",
    "    return self.inputs[index].type(torch.float32), self.labels[index]\n",
    "\n",
    "  def __len__(self):\n",
    "    return self.len\n",
    "\n",
    "def make_dataset(interesting_files, balance_classes=True):\n",
    "  iea=[]\n",
    "  uea=[]\n",
    "  for f in interesting_files:\n",
    "      ie,ue = get_embeddings_for_labels_in_file(f)\n",
    "      if ie is not None and ue is not None:\n",
    "          iea.append(ie)\n",
    "          uea.append(ue)\n",
    "  interesting_embs= torch.cat(iea)\n",
    "  uninteresting_embs = torch.cat(uea)\n",
    "  del(iea)\n",
    "  del(uea)\n",
    "  gc.collect()\n",
    "  if balance_classes:\n",
    "      # should probably be true - it worked really well with it true\n",
    "      print(\"initially, the shapes were\",interesting_embs.shape,uninteresting_embs.shape)\n",
    "      print(\"or a ratio of\",uninteresting_embs.shape[0] / interesting_embs.shape[0])\n",
    "      num_rows_to_keep = interesting_embs.shape[0]\n",
    "      random_indices = torch.randperm(uninteresting_embs.shape[0])[:num_rows_to_keep]\n",
    "      uninteresting_embs = uninteresting_embs[random_indices]\n",
    "  print(f\"from {len(interesting_files)} found {interesting_embs.shape} positive and {uninteresting_embs.shape} negatives\")\n",
    "  all_embs = torch.cat((interesting_embs, uninteresting_embs), dim=0)\n",
    "  all_labels = np.concatenate((np.array(['rumble'] * interesting_embs.shape[0]), \n",
    "                                np.array(['not'] * uninteresting_embs.shape[0])))\n",
    "  return MyDataset(all_embs, all_labels)\n",
    "\n",
    "def split_dataset(a_dataset):\n",
    "  train_ds,test_ds,val_ds = torch.utils.data.random_split(\n",
    "        a_dataset,\n",
    "          [0.8, 0.1, 0.1], \n",
    "        generator=torch.Generator().manual_seed(42)\n",
    "  )\n",
    "  return train_ds,test_ds,val_ds\n",
    "\n",
    "def get_dataloaders(a_dataset):\n",
    "  train_ds,test_ds,val_ds = split_dataset(a_dataset)\n",
    "  print(len(a_dataset),len(train_ds),len(test_ds),len(val_ds))\n",
    "  batch_size = 64\n",
    "  train_loader = DataLoader(train_ds, batch_size=batch_size, shuffle=True, num_workers=0)\n",
    "  test_loader  = DataLoader(test_ds, batch_size=batch_size, shuffle=True, num_workers=0)\n",
    "  val_loader  = DataLoader(val_ds, batch_size=batch_size, shuffle=True, num_workers=0)\n",
    "  return train_loader,test_loader,val_loader\n",
    "\n"
   ]
  },
  {
   "cell_type": "markdown",
   "metadata": {},
   "source": [
    "## Create a torch dataset with both Rumbles and non-rumbles"
   ]
  },
  {
   "cell_type": "code",
   "execution_count": 16,
   "metadata": {},
   "outputs": [
    {
     "name": "stdout",
     "output_type": "stream",
     "text": [
      "['nn01g_20180808_000000.wav', 'nn04c_20180826_000000.wav', 'nn07b_20180828_000000.wav'] ...\n",
      "found 18 labels and 29 negative labels in nn01g_20180808_000000.wav\n"
     ]
    },
    {
     "name": "stderr",
     "output_type": "stream",
     "text": [
      "100%|██████████| 18/18 [00:00<00:00, 741.96it/s]\n",
      "100%|██████████| 29/29 [00:00<00:00, 126.72it/s]\n"
     ]
    },
    {
     "name": "stdout",
     "output_type": "stream",
     "text": [
      "found 2 labels and 3 negative labels in nn04c_20180826_000000.wav\n"
     ]
    },
    {
     "name": "stderr",
     "output_type": "stream",
     "text": [
      "100%|██████████| 2/2 [00:00<00:00, 72.95it/s]\n",
      "100%|██████████| 3/3 [00:00<00:00, 106.35it/s]\n"
     ]
    },
    {
     "name": "stdout",
     "output_type": "stream",
     "text": [
      "found 18 labels and 23 negative labels in nn07b_20180828_000000.wav\n"
     ]
    },
    {
     "name": "stderr",
     "output_type": "stream",
     "text": [
      "100%|██████████| 18/18 [00:00<00:00, 245.38it/s]\n",
      "100%|██████████| 23/23 [00:00<00:00, 105.78it/s]\n"
     ]
    },
    {
     "name": "stdout",
     "output_type": "stream",
     "text": [
      "found 24 labels and 33 negative labels in nn02g_20180816_000000.wav\n"
     ]
    },
    {
     "name": "stderr",
     "output_type": "stream",
     "text": [
      "100%|██████████| 24/24 [00:00<00:00, 863.19it/s]\n",
      "100%|██████████| 33/33 [00:00<00:00, 118.98it/s]\n"
     ]
    },
    {
     "name": "stdout",
     "output_type": "stream",
     "text": [
      "found 201 labels and 180 negative labels in madj_20150127_000000.wav\n"
     ]
    },
    {
     "name": "stderr",
     "output_type": "stream",
     "text": [
      "100%|██████████| 201/201 [00:00<00:00, 1029.90it/s]\n",
      "100%|██████████| 180/180 [00:01<00:00, 120.99it/s]\n"
     ]
    },
    {
     "name": "stdout",
     "output_type": "stream",
     "text": [
      "found 11 labels and 19 negative labels in jobo_20160426_000000.wav\n"
     ]
    },
    {
     "name": "stderr",
     "output_type": "stream",
     "text": [
      "100%|██████████| 11/11 [00:00<00:00, 427.86it/s]\n",
      "100%|██████████| 19/19 [00:00<00:00, 120.98it/s]\n"
     ]
    },
    {
     "name": "stdout",
     "output_type": "stream",
     "text": [
      "found 2 labels and 3 negative labels in nn05a_20180606_000000.wav\n"
     ]
    },
    {
     "name": "stderr",
     "output_type": "stream",
     "text": [
      "100%|██████████| 2/2 [00:00<00:00, 81.28it/s]\n",
      "100%|██████████| 3/3 [00:00<00:00, 63.50it/s]\n"
     ]
    },
    {
     "name": "stdout",
     "output_type": "stream",
     "text": [
      "found 29 labels and 19 negative labels in nn06b_20180911_000000.wav\n"
     ]
    },
    {
     "name": "stderr",
     "output_type": "stream",
     "text": [
      "100%|██████████| 29/29 [00:00<00:00, 515.71it/s]\n",
      "100%|██████████| 19/19 [00:00<00:00, 184.61it/s]\n"
     ]
    },
    {
     "name": "stdout",
     "output_type": "stream",
     "text": [
      "found 10 labels and 4 negative labels in nn01c_20180311_000000.wav\n"
     ]
    },
    {
     "name": "stderr",
     "output_type": "stream",
     "text": [
      "100%|██████████| 10/10 [00:00<00:00, 556.07it/s]\n",
      "100%|██████████| 4/4 [00:00<00:00, 51.40it/s]\n"
     ]
    },
    {
     "name": "stdout",
     "output_type": "stream",
     "text": [
      "found 28 labels and 12 negative labels in nn06c_20180730_000000.wav\n"
     ]
    },
    {
     "name": "stderr",
     "output_type": "stream",
     "text": [
      "100%|██████████| 28/28 [00:00<00:00, 777.95it/s]\n",
      "100%|██████████| 12/12 [00:00<00:00, 110.54it/s]\n"
     ]
    },
    {
     "name": "stdout",
     "output_type": "stream",
     "text": [
      "found 67 labels and 45 negative labels in nn06a_20180615_000000.wav\n"
     ]
    },
    {
     "name": "stderr",
     "output_type": "stream",
     "text": [
      "100%|██████████| 67/67 [00:00<00:00, 540.04it/s]\n",
      "100%|██████████| 45/45 [00:00<00:00, 78.43it/s]\n"
     ]
    },
    {
     "name": "stdout",
     "output_type": "stream",
     "text": [
      "found 34 labels and 41 negative labels in nn07b_20180923_000000.wav\n"
     ]
    },
    {
     "name": "stderr",
     "output_type": "stream",
     "text": [
      "100%|██████████| 34/34 [00:00<00:00, 542.17it/s]\n",
      "100%|██████████| 41/41 [00:00<00:00, 80.16it/s]\n"
     ]
    },
    {
     "name": "stdout",
     "output_type": "stream",
     "text": [
      "found 467 labels and 319 negative labels in CEB1_20111010_000000.wav\n"
     ]
    },
    {
     "name": "stderr",
     "output_type": "stream",
     "text": [
      "100%|██████████| 467/467 [00:00<00:00, 3866.10it/s]\n",
      "100%|██████████| 319/319 [00:00<00:00, 3171.97it/s]\n"
     ]
    },
    {
     "name": "stdout",
     "output_type": "stream",
     "text": [
      "found 9 labels and 16 negative labels in nn01a_20180619_000000.wav\n"
     ]
    },
    {
     "name": "stderr",
     "output_type": "stream",
     "text": [
      "100%|██████████| 9/9 [00:00<00:00, 216.58it/s]\n",
      "100%|██████████| 16/16 [00:00<00:00, 143.84it/s]\n"
     ]
    },
    {
     "name": "stdout",
     "output_type": "stream",
     "text": [
      "found 12 labels and 17 negative labels in nn05a_20181217_000000.wav\n"
     ]
    },
    {
     "name": "stderr",
     "output_type": "stream",
     "text": [
      "100%|██████████| 12/12 [00:00<00:00, 381.92it/s]\n",
      "100%|██████████| 17/17 [00:00<00:00, 189.74it/s]\n"
     ]
    },
    {
     "name": "stdout",
     "output_type": "stream",
     "text": [
      "found 160 labels and 159 negative labels in CEB1_20120731_000000.wav\n"
     ]
    },
    {
     "name": "stderr",
     "output_type": "stream",
     "text": [
      "100%|██████████| 160/160 [00:00<00:00, 1175.96it/s]\n",
      "100%|██████████| 159/159 [00:00<00:00, 172.28it/s]\n"
     ]
    },
    {
     "name": "stdout",
     "output_type": "stream",
     "text": [
      "found 380 labels and 214 negative labels in madj_20141225_000000.wav\n"
     ]
    },
    {
     "name": "stderr",
     "output_type": "stream",
     "text": [
      "100%|██████████| 380/380 [00:00<00:00, 1324.07it/s]\n",
      "100%|██████████| 214/214 [00:02<00:00, 105.04it/s]\n"
     ]
    },
    {
     "name": "stdout",
     "output_type": "stream",
     "text": [
      "found 2245 labels and 491 negative labels in CEB1_20111107_000000.wav\n"
     ]
    },
    {
     "name": "stderr",
     "output_type": "stream",
     "text": [
      "100%|██████████| 2245/2245 [00:01<00:00, 1263.03it/s]\n",
      "100%|██████████| 491/491 [00:10<00:00, 47.79it/s] \n"
     ]
    },
    {
     "name": "stdout",
     "output_type": "stream",
     "text": [
      "found 27 labels and 34 negative labels in CEB1_20150807_000000.wav\n"
     ]
    },
    {
     "name": "stderr",
     "output_type": "stream",
     "text": [
      "100%|██████████| 27/27 [00:00<00:00, 541.50it/s]\n",
      "100%|██████████| 34/34 [00:00<00:00, 143.35it/s]\n"
     ]
    },
    {
     "name": "stdout",
     "output_type": "stream",
     "text": [
      "found 14 labels and 18 negative labels in nn01c_20180417_000000.wav\n"
     ]
    },
    {
     "name": "stderr",
     "output_type": "stream",
     "text": [
      "100%|██████████| 14/14 [00:00<00:00, 432.57it/s]\n",
      "100%|██████████| 18/18 [00:00<00:00, 73.10it/s]\n"
     ]
    },
    {
     "name": "stdout",
     "output_type": "stream",
     "text": [
      "found 24 labels and 35 negative labels in nn04c_20180308_000000.wav\n"
     ]
    },
    {
     "name": "stderr",
     "output_type": "stream",
     "text": [
      "100%|██████████| 24/24 [00:00<00:00, 759.37it/s]\n",
      "100%|██████████| 35/35 [00:00<00:00, 85.17it/s] \n"
     ]
    },
    {
     "name": "stdout",
     "output_type": "stream",
     "text": [
      "found 5 labels and 2 negative labels in nn05d_20180603_000000.wav\n"
     ]
    },
    {
     "name": "stderr",
     "output_type": "stream",
     "text": [
      "100%|██████████| 5/5 [00:00<00:00, 196.46it/s]\n",
      "100%|██████████| 2/2 [00:00<00:00, 38.54it/s]\n"
     ]
    },
    {
     "name": "stdout",
     "output_type": "stream",
     "text": [
      "found 4 labels and 6 negative labels in nn01b_20180220_000000.wav\n"
     ]
    },
    {
     "name": "stderr",
     "output_type": "stream",
     "text": [
      "100%|██████████| 4/4 [00:00<00:00, 184.53it/s]\n",
      "100%|██████████| 6/6 [00:00<00:00, 70.10it/s]\n"
     ]
    },
    {
     "name": "stdout",
     "output_type": "stream",
     "text": [
      "found 48 labels and 35 negative labels in nn04a_20180608_000000.wav\n"
     ]
    },
    {
     "name": "stderr",
     "output_type": "stream",
     "text": [
      "100%|██████████| 48/48 [00:00<00:00, 1160.12it/s]\n",
      "100%|██████████| 35/35 [00:00<00:00, 108.65it/s]\n"
     ]
    },
    {
     "name": "stdout",
     "output_type": "stream",
     "text": [
      "found 84 labels and 70 negative labels in jobo_20160520_000000.wav\n"
     ]
    },
    {
     "name": "stderr",
     "output_type": "stream",
     "text": [
      "100%|██████████| 84/84 [00:00<00:00, 1294.20it/s]\n",
      "100%|██████████| 70/70 [00:00<00:00, 78.44it/s]\n"
     ]
    },
    {
     "name": "stdout",
     "output_type": "stream",
     "text": [
      "found 43 labels and 26 negative labels in nn10a_20180913_000000.wav\n"
     ]
    },
    {
     "name": "stderr",
     "output_type": "stream",
     "text": [
      "100%|██████████| 43/43 [00:00<00:00, 1143.06it/s]\n",
      "100%|██████████| 26/26 [00:00<00:00, 77.41it/s]\n"
     ]
    },
    {
     "name": "stdout",
     "output_type": "stream",
     "text": [
      "found 4 labels and 7 negative labels in nn06e_20180512_000000.wav\n"
     ]
    },
    {
     "name": "stderr",
     "output_type": "stream",
     "text": [
      "100%|██████████| 4/4 [00:00<00:00, 104.65it/s]\n",
      "100%|██████████| 7/7 [00:00<00:00, 91.55it/s]\n"
     ]
    },
    {
     "name": "stdout",
     "output_type": "stream",
     "text": [
      "found 931 labels and 348 negative labels in CEB1_20120706_000000.wav\n"
     ]
    },
    {
     "name": "stderr",
     "output_type": "stream",
     "text": [
      "100%|██████████| 931/931 [00:00<00:00, 1537.26it/s]\n",
      "100%|██████████| 348/348 [00:07<00:00, 46.73it/s] \n"
     ]
    },
    {
     "name": "stdout",
     "output_type": "stream",
     "text": [
      "found 2 labels and 3 negative labels in nn01d_20180222_000000.wav\n"
     ]
    },
    {
     "name": "stderr",
     "output_type": "stream",
     "text": [
      "100%|██████████| 2/2 [00:00<00:00, 122.02it/s]\n",
      "100%|██████████| 3/3 [00:00<00:00, 83.14it/s]\n"
     ]
    },
    {
     "name": "stdout",
     "output_type": "stream",
     "text": [
      "found 154 labels and 147 negative labels in ceb1_20110121_000000.wav\n"
     ]
    },
    {
     "name": "stderr",
     "output_type": "stream",
     "text": [
      "100%|██████████| 154/154 [00:00<00:00, 1042.82it/s]\n",
      "100%|██████████| 147/147 [00:01<00:00, 117.26it/s]\n"
     ]
    },
    {
     "name": "stdout",
     "output_type": "stream",
     "text": [
      "found 60 labels and 47 negative labels in nn03g_20180810_000000.wav\n"
     ]
    },
    {
     "name": "stderr",
     "output_type": "stream",
     "text": [
      "100%|██████████| 60/60 [00:00<00:00, 1068.26it/s]\n",
      "100%|██████████| 47/47 [00:00<00:00, 153.66it/s]\n"
     ]
    },
    {
     "name": "stdout",
     "output_type": "stream",
     "text": [
      "found 18 labels and 20 negative labels in nn01c_20180625_000000.wav\n"
     ]
    },
    {
     "name": "stderr",
     "output_type": "stream",
     "text": [
      "100%|██████████| 18/18 [00:00<00:00, 839.66it/s]\n",
      "100%|██████████| 20/20 [00:00<00:00, 83.88it/s] \n"
     ]
    },
    {
     "name": "stdout",
     "output_type": "stream",
     "text": [
      "found 18 labels and 19 negative labels in nn02a_20180517_000000.wav\n"
     ]
    },
    {
     "name": "stderr",
     "output_type": "stream",
     "text": [
      "100%|██████████| 18/18 [00:00<00:00, 526.71it/s]\n",
      "100%|██████████| 19/19 [00:00<00:00, 98.13it/s]\n"
     ]
    },
    {
     "name": "stdout",
     "output_type": "stream",
     "text": [
      "found 24 labels and 17 negative labels in nn01c_20180501_000000.wav\n"
     ]
    },
    {
     "name": "stderr",
     "output_type": "stream",
     "text": [
      "100%|██████████| 24/24 [00:00<00:00, 542.61it/s]\n",
      "100%|██████████| 17/17 [00:00<00:00, 88.58it/s]\n"
     ]
    },
    {
     "name": "stdout",
     "output_type": "stream",
     "text": [
      "found 7 labels and 9 negative labels in nn06e_20181115_000000.wav\n"
     ]
    },
    {
     "name": "stderr",
     "output_type": "stream",
     "text": [
      "100%|██████████| 7/7 [00:00<00:00, 350.49it/s]\n",
      "100%|██████████| 9/9 [00:00<00:00, 82.36it/s]\n"
     ]
    },
    {
     "name": "stdout",
     "output_type": "stream",
     "text": [
      "found 5 labels and 9 negative labels in nn04c_20180516_000000.wav\n"
     ]
    },
    {
     "name": "stderr",
     "output_type": "stream",
     "text": [
      "100%|██████████| 5/5 [00:00<00:00, 210.85it/s]\n",
      "100%|██████████| 9/9 [00:00<00:00, 79.71it/s]\n"
     ]
    },
    {
     "name": "stdout",
     "output_type": "stream",
     "text": [
      "found 5 labels and 8 negative labels in nn05e_20181021_000000.wav\n"
     ]
    },
    {
     "name": "stderr",
     "output_type": "stream",
     "text": [
      "100%|██████████| 5/5 [00:00<00:00, 219.91it/s]\n",
      "100%|██████████| 8/8 [00:00<00:00, 136.20it/s]\n"
     ]
    },
    {
     "name": "stdout",
     "output_type": "stream",
     "text": [
      "found 164 labels and 88 negative labels in nn06a_20180716_000000.wav\n"
     ]
    },
    {
     "name": "stderr",
     "output_type": "stream",
     "text": [
      "100%|██████████| 164/164 [00:00<00:00, 1132.33it/s]\n",
      "100%|██████████| 88/88 [00:00<00:00, 94.37it/s] \n"
     ]
    },
    {
     "name": "stdout",
     "output_type": "stream",
     "text": [
      "found 5 labels and 4 negative labels in nn04c_20181017_000000.wav\n"
     ]
    },
    {
     "name": "stderr",
     "output_type": "stream",
     "text": [
      "100%|██████████| 5/5 [00:00<00:00, 1124.60it/s]\n",
      "100%|██████████| 4/4 [00:00<00:00, 67.18it/s]\n"
     ]
    },
    {
     "name": "stdout",
     "output_type": "stream",
     "text": [
      "found 19 labels and 16 negative labels in nn07c_20180619_000000.wav\n"
     ]
    },
    {
     "name": "stderr",
     "output_type": "stream",
     "text": [
      "100%|██████████| 19/19 [00:00<00:00, 431.35it/s]\n",
      "100%|██████████| 16/16 [00:00<00:00, 69.58it/s]\n"
     ]
    },
    {
     "name": "stdout",
     "output_type": "stream",
     "text": [
      "found 7 labels and 10 negative labels in nn05d_20180518_000000.wav\n"
     ]
    },
    {
     "name": "stderr",
     "output_type": "stream",
     "text": [
      "100%|██████████| 7/7 [00:00<00:00, 318.36it/s]\n",
      "100%|██████████| 10/10 [00:00<00:00, 89.27it/s]\n"
     ]
    },
    {
     "name": "stdout",
     "output_type": "stream",
     "text": [
      "found 19 labels and 27 negative labels in nn05b_20180522_000000.wav\n"
     ]
    },
    {
     "name": "stderr",
     "output_type": "stream",
     "text": [
      "100%|██████████| 19/19 [00:00<00:00, 690.12it/s]\n",
      "100%|██████████| 27/27 [00:00<00:00, 76.34it/s] \n"
     ]
    },
    {
     "name": "stdout",
     "output_type": "stream",
     "text": [
      "found 294 labels and 224 negative labels in ceb1_20110107_000000.wav\n"
     ]
    },
    {
     "name": "stderr",
     "output_type": "stream",
     "text": [
      "100%|██████████| 294/294 [00:00<00:00, 863.82it/s]\n",
      "100%|██████████| 224/224 [00:03<00:00, 57.89it/s] \n"
     ]
    },
    {
     "name": "stdout",
     "output_type": "stream",
     "text": [
      "found 13 labels and 13 negative labels in nn06f_20180806_000000.wav\n"
     ]
    },
    {
     "name": "stderr",
     "output_type": "stream",
     "text": [
      "100%|██████████| 13/13 [00:00<00:00, 483.12it/s]\n",
      "100%|██████████| 13/13 [00:00<00:00, 53.28it/s]\n"
     ]
    },
    {
     "name": "stdout",
     "output_type": "stream",
     "text": [
      "found 174 labels and 154 negative labels in CEB1_20120828_000000.wav\n"
     ]
    },
    {
     "name": "stderr",
     "output_type": "stream",
     "text": [
      "100%|██████████| 174/174 [00:00<00:00, 1147.93it/s]\n",
      "100%|██████████| 154/154 [00:00<00:00, 190.28it/s]\n"
     ]
    },
    {
     "name": "stdout",
     "output_type": "stream",
     "text": [
      "found 46 labels and 15 negative labels in nn01c_20180402_000000.wav\n"
     ]
    },
    {
     "name": "stderr",
     "output_type": "stream",
     "text": [
      "100%|██████████| 46/46 [00:00<00:00, 1056.87it/s]\n",
      "100%|██████████| 15/15 [00:00<00:00, 84.49it/s]\n"
     ]
    },
    {
     "name": "stdout",
     "output_type": "stream",
     "text": [
      "found 3437 labels and 648 negative labels in CEB1_20111017_000000.wav\n"
     ]
    },
    {
     "name": "stderr",
     "output_type": "stream",
     "text": [
      "100%|██████████| 3437/3437 [00:02<00:00, 1553.18it/s]\n",
      "100%|██████████| 648/648 [00:10<00:00, 63.86it/s] \n"
     ]
    },
    {
     "name": "stdout",
     "output_type": "stream",
     "text": [
      "found 7 labels and 12 negative labels in nn04c_20180714_000000.wav\n"
     ]
    },
    {
     "name": "stderr",
     "output_type": "stream",
     "text": [
      "100%|██████████| 7/7 [00:00<00:00, 230.33it/s]\n",
      "100%|██████████| 12/12 [00:00<00:00, 121.20it/s]\n"
     ]
    },
    {
     "name": "stdout",
     "output_type": "stream",
     "text": [
      "found 32 labels and 27 negative labels in nn01e_20180828_100134.wav\n"
     ]
    },
    {
     "name": "stderr",
     "output_type": "stream",
     "text": [
      "100%|██████████| 32/32 [00:00<00:00, 622.51it/s]\n",
      "100%|██████████| 27/27 [00:00<00:00, 118.43it/s]\n"
     ]
    },
    {
     "name": "stdout",
     "output_type": "stream",
     "text": [
      "found 500 labels and 386 negative labels in CEB1_20111112_000000.wav\n"
     ]
    },
    {
     "name": "stderr",
     "output_type": "stream",
     "text": [
      "100%|██████████| 500/500 [00:00<00:00, 1428.82it/s]\n",
      "100%|██████████| 386/386 [00:01<00:00, 202.14it/s]\n"
     ]
    },
    {
     "name": "stdout",
     "output_type": "stream",
     "text": [
      "found 200 labels and 154 negative labels in CEB1_20120816_000000.wav\n"
     ]
    },
    {
     "name": "stderr",
     "output_type": "stream",
     "text": [
      "100%|██████████| 200/200 [00:00<00:00, 895.30it/s]\n",
      "100%|██████████| 154/154 [00:02<00:00, 67.37it/s]\n"
     ]
    },
    {
     "name": "stdout",
     "output_type": "stream",
     "text": [
      "found 8 labels and 8 negative labels in nn08a_20180829_000000.wav\n"
     ]
    },
    {
     "name": "stderr",
     "output_type": "stream",
     "text": [
      "100%|██████████| 8/8 [00:00<00:00, 317.00it/s]\n",
      "100%|██████████| 8/8 [00:00<00:00, 68.28it/s]\n"
     ]
    },
    {
     "name": "stdout",
     "output_type": "stream",
     "text": [
      "found 19 labels and 11 negative labels in nn01d_20180611_000000.wav\n"
     ]
    },
    {
     "name": "stderr",
     "output_type": "stream",
     "text": [
      "100%|██████████| 19/19 [00:00<00:00, 613.03it/s]\n",
      "100%|██████████| 11/11 [00:00<00:00, 160.27it/s]\n"
     ]
    },
    {
     "name": "stdout",
     "output_type": "stream",
     "text": [
      "found 289 labels and 208 negative labels in jobo_20160530_000000.wav\n"
     ]
    },
    {
     "name": "stderr",
     "output_type": "stream",
     "text": [
      "100%|██████████| 289/289 [00:00<00:00, 973.22it/s]\n",
      "100%|██████████| 208/208 [00:01<00:00, 108.59it/s]\n"
     ]
    },
    {
     "name": "stdout",
     "output_type": "stream",
     "text": [
      "found 235 labels and 169 negative labels in nn08c_20180824_000000.wav\n"
     ]
    },
    {
     "name": "stderr",
     "output_type": "stream",
     "text": [
      "100%|██████████| 235/235 [00:00<00:00, 1225.35it/s]\n",
      "100%|██████████| 169/169 [00:02<00:00, 56.48it/s]\n"
     ]
    },
    {
     "name": "stdout",
     "output_type": "stream",
     "text": [
      "found 99 labels and 57 negative labels in nn08b_20180817_000000.wav\n"
     ]
    },
    {
     "name": "stderr",
     "output_type": "stream",
     "text": [
      "100%|██████████| 99/99 [00:00<00:00, 626.24it/s]\n",
      "100%|██████████| 57/57 [00:00<00:00, 138.58it/s]\n"
     ]
    },
    {
     "name": "stdout",
     "output_type": "stream",
     "text": [
      "found 225 labels and 162 negative labels in ceb1_20110123_000000.wav\n"
     ]
    },
    {
     "name": "stderr",
     "output_type": "stream",
     "text": [
      "100%|██████████| 225/225 [00:00<00:00, 1485.08it/s]\n",
      "100%|██████████| 162/162 [00:02<00:00, 74.50it/s]\n"
     ]
    },
    {
     "name": "stdout",
     "output_type": "stream",
     "text": [
      "found 48 labels and 37 negative labels in nn06b_20180411_000000.wav\n"
     ]
    },
    {
     "name": "stderr",
     "output_type": "stream",
     "text": [
      "100%|██████████| 48/48 [00:00<00:00, 442.86it/s]\n",
      "100%|██████████| 37/37 [00:00<00:00, 105.70it/s]\n"
     ]
    },
    {
     "name": "stdout",
     "output_type": "stream",
     "text": [
      "found 30 labels and 19 negative labels in nn02b_20180508_000000.wav\n"
     ]
    },
    {
     "name": "stderr",
     "output_type": "stream",
     "text": [
      "100%|██████████| 30/30 [00:00<00:00, 1120.17it/s]\n",
      "100%|██████████| 19/19 [00:00<00:00, 120.25it/s]\n"
     ]
    },
    {
     "name": "stdout",
     "output_type": "stream",
     "text": [
      "found 2 labels and 3 negative labels in nn05e_20180504_000000.wav\n"
     ]
    },
    {
     "name": "stderr",
     "output_type": "stream",
     "text": [
      "100%|██████████| 2/2 [00:00<00:00, 92.46it/s]\n",
      "100%|██████████| 3/3 [00:00<00:00, 46.72it/s]\n"
     ]
    },
    {
     "name": "stdout",
     "output_type": "stream",
     "text": [
      "found 48 labels and 16 negative labels in nn10b_20180604_000000.wav\n"
     ]
    },
    {
     "name": "stderr",
     "output_type": "stream",
     "text": [
      "100%|██████████| 48/48 [00:00<00:00, 582.04it/s]\n",
      "100%|██████████| 16/16 [00:00<00:00, 102.16it/s]\n"
     ]
    },
    {
     "name": "stdout",
     "output_type": "stream",
     "text": [
      "found 893 labels and 458 negative labels in jobo_20160507_000000.wav\n"
     ]
    },
    {
     "name": "stderr",
     "output_type": "stream",
     "text": [
      "100%|██████████| 893/893 [00:00<00:00, 1502.43it/s]\n",
      "100%|██████████| 458/458 [00:07<00:00, 60.75it/s] \n"
     ]
    },
    {
     "name": "stdout",
     "output_type": "stream",
     "text": [
      "found 320 labels and 266 negative labels in CEB1_20120728_000000.wav\n"
     ]
    },
    {
     "name": "stderr",
     "output_type": "stream",
     "text": [
      "100%|██████████| 320/320 [00:00<00:00, 1037.77it/s]\n",
      "100%|██████████| 266/266 [00:05<00:00, 48.64it/s] \n"
     ]
    },
    {
     "name": "stdout",
     "output_type": "stream",
     "text": [
      "found 115 labels and 28 negative labels in nn10a_20180702_000000.wav\n"
     ]
    },
    {
     "name": "stderr",
     "output_type": "stream",
     "text": [
      "100%|██████████| 115/115 [00:00<00:00, 886.17it/s]\n",
      "100%|██████████| 28/28 [00:00<00:00, 80.65it/s]\n"
     ]
    },
    {
     "name": "stdout",
     "output_type": "stream",
     "text": [
      "found 18 labels and 12 negative labels in nn03f_20180803_000000.wav\n"
     ]
    },
    {
     "name": "stderr",
     "output_type": "stream",
     "text": [
      "100%|██████████| 18/18 [00:00<00:00, 400.67it/s]\n",
      "100%|██████████| 12/12 [00:00<00:00, 120.41it/s]\n"
     ]
    },
    {
     "name": "stdout",
     "output_type": "stream",
     "text": [
      "found 3853 labels and 820 negative labels in CEB1_20111128_000000.wav\n"
     ]
    },
    {
     "name": "stderr",
     "output_type": "stream",
     "text": [
      "100%|██████████| 3853/3853 [00:02<00:00, 1480.65it/s]\n",
      "100%|██████████| 820/820 [00:08<00:00, 93.22it/s] \n"
     ]
    },
    {
     "name": "stdout",
     "output_type": "stream",
     "text": [
      "found 122 labels and 130 negative labels in CEB1_20120727_000000.wav\n"
     ]
    },
    {
     "name": "stderr",
     "output_type": "stream",
     "text": [
      "100%|██████████| 122/122 [00:00<00:00, 968.28it/s]\n",
      "100%|██████████| 130/130 [00:01<00:00, 87.34it/s] \n"
     ]
    },
    {
     "name": "stdout",
     "output_type": "stream",
     "text": [
      "found 26 labels and 28 negative labels in nn06b_20180511_000000.wav\n"
     ]
    },
    {
     "name": "stderr",
     "output_type": "stream",
     "text": [
      "100%|██████████| 26/26 [00:00<00:00, 538.77it/s]\n",
      "100%|██████████| 28/28 [00:00<00:00, 191.73it/s]\n"
     ]
    },
    {
     "name": "stdout",
     "output_type": "stream",
     "text": [
      "found 12 labels and 16 negative labels in nn05b_20180414_000000.wav\n"
     ]
    },
    {
     "name": "stderr",
     "output_type": "stream",
     "text": [
      "100%|██████████| 12/12 [00:00<00:00, 576.29it/s]\n",
      "100%|██████████| 16/16 [00:00<00:00, 121.27it/s]\n"
     ]
    },
    {
     "name": "stdout",
     "output_type": "stream",
     "text": [
      "found 22 labels and 25 negative labels in nn05a_20190218_000000.wav\n"
     ]
    },
    {
     "name": "stderr",
     "output_type": "stream",
     "text": [
      "100%|██████████| 22/22 [00:00<00:00, 667.73it/s]\n",
      "100%|██████████| 25/25 [00:00<00:00, 84.12it/s]\n"
     ]
    },
    {
     "name": "stdout",
     "output_type": "stream",
     "text": [
      "found 465 labels and 316 negative labels in CEB1_20111012_000000.wav\n"
     ]
    },
    {
     "name": "stderr",
     "output_type": "stream",
     "text": [
      "100%|██████████| 465/465 [00:00<00:00, 1096.96it/s]\n",
      "100%|██████████| 316/316 [00:01<00:00, 205.76it/s]\n"
     ]
    },
    {
     "name": "stdout",
     "output_type": "stream",
     "text": [
      "found 90 labels and 74 negative labels in ceb1_20110109_000000.wav\n"
     ]
    },
    {
     "name": "stderr",
     "output_type": "stream",
     "text": [
      "100%|██████████| 90/90 [00:00<00:00, 442.89it/s]\n",
      "100%|██████████| 74/74 [00:00<00:00, 101.83it/s]\n"
     ]
    },
    {
     "name": "stdout",
     "output_type": "stream",
     "text": [
      "found 103 labels and 106 negative labels in CEB1_20120801_000000.wav\n"
     ]
    },
    {
     "name": "stderr",
     "output_type": "stream",
     "text": [
      "100%|██████████| 103/103 [00:00<00:00, 1045.48it/s]\n",
      "100%|██████████| 106/106 [00:00<00:00, 113.47it/s]\n"
     ]
    },
    {
     "name": "stdout",
     "output_type": "stream",
     "text": [
      "found 2 labels and 3 negative labels in nn05d_20181022_000000.wav\n"
     ]
    },
    {
     "name": "stderr",
     "output_type": "stream",
     "text": [
      "100%|██████████| 2/2 [00:00<00:00, 97.31it/s]\n",
      "100%|██████████| 3/3 [00:00<00:00, 71.41it/s]\n"
     ]
    },
    {
     "name": "stdout",
     "output_type": "stream",
     "text": [
      "found 323 labels and 201 negative labels in ceb1_20110108_000000.wav\n"
     ]
    },
    {
     "name": "stderr",
     "output_type": "stream",
     "text": [
      "100%|██████████| 323/323 [00:00<00:00, 978.82it/s] \n",
      "100%|██████████| 201/201 [00:01<00:00, 199.56it/s]\n"
     ]
    },
    {
     "name": "stdout",
     "output_type": "stream",
     "text": [
      "found 60 labels and 60 negative labels in nn01b_20180702_000000.wav\n"
     ]
    },
    {
     "name": "stderr",
     "output_type": "stream",
     "text": [
      "100%|██████████| 60/60 [00:00<00:00, 684.38it/s]\n",
      "100%|██████████| 60/60 [00:00<00:00, 196.95it/s]\n"
     ]
    },
    {
     "name": "stdout",
     "output_type": "stream",
     "text": [
      "found 36 labels and 39 negative labels in nn06c_20180528_000000.wav\n"
     ]
    },
    {
     "name": "stderr",
     "output_type": "stream",
     "text": [
      "100%|██████████| 36/36 [00:00<00:00, 763.92it/s]\n",
      "100%|██████████| 39/39 [00:00<00:00, 148.31it/s]\n"
     ]
    },
    {
     "name": "stdout",
     "output_type": "stream",
     "text": [
      "found 92 labels and 97 negative labels in madj_20160425_000000.wav\n"
     ]
    },
    {
     "name": "stderr",
     "output_type": "stream",
     "text": [
      "100%|██████████| 92/92 [00:00<00:00, 532.59it/s]\n",
      "100%|██████████| 97/97 [00:00<00:00, 104.58it/s]\n"
     ]
    },
    {
     "name": "stdout",
     "output_type": "stream",
     "text": [
      "found 2519 labels and 773 negative labels in CEB1_20111210_000000.wav\n"
     ]
    },
    {
     "name": "stderr",
     "output_type": "stream",
     "text": [
      "100%|██████████| 2519/2519 [00:01<00:00, 1361.04it/s]\n",
      "100%|██████████| 773/773 [00:10<00:00, 73.86it/s] \n"
     ]
    },
    {
     "name": "stdout",
     "output_type": "stream",
     "text": [
      "found 8 labels and 8 negative labels in nn05a_20181110_000000.wav\n"
     ]
    },
    {
     "name": "stderr",
     "output_type": "stream",
     "text": [
      "100%|██████████| 8/8 [00:00<00:00, 279.01it/s]\n",
      "100%|██████████| 8/8 [00:00<00:00, 73.01it/s]\n"
     ]
    },
    {
     "name": "stdout",
     "output_type": "stream",
     "text": [
      "found 24 labels and 19 negative labels in nn03g_20180806_000000.wav\n"
     ]
    },
    {
     "name": "stderr",
     "output_type": "stream",
     "text": [
      "100%|██████████| 24/24 [00:00<00:00, 655.79it/s]\n",
      "100%|██████████| 19/19 [00:00<00:00, 144.76it/s]\n"
     ]
    },
    {
     "name": "stdout",
     "output_type": "stream",
     "text": [
      "found 626 labels and 415 negative labels in madj_20150212_000000.wav\n"
     ]
    },
    {
     "name": "stderr",
     "output_type": "stream",
     "text": [
      "100%|██████████| 626/626 [00:00<00:00, 1190.51it/s]\n",
      "100%|██████████| 415/415 [00:02<00:00, 204.12it/s]\n"
     ]
    },
    {
     "name": "stdout",
     "output_type": "stream",
     "text": [
      "found 117 labels and 112 negative labels in CEB1_20120717_000000.wav\n"
     ]
    },
    {
     "name": "stderr",
     "output_type": "stream",
     "text": [
      "100%|██████████| 117/117 [00:00<00:00, 1058.42it/s]\n",
      "100%|██████████| 112/112 [00:01<00:00, 74.51it/s]\n"
     ]
    },
    {
     "name": "stdout",
     "output_type": "stream",
     "text": [
      "found 47 labels and 31 negative labels in nn01e_20180620_100134.wav\n"
     ]
    },
    {
     "name": "stderr",
     "output_type": "stream",
     "text": [
      "100%|██████████| 47/47 [00:00<00:00, 241.20it/s]\n",
      "100%|██████████| 31/31 [00:00<00:00, 154.27it/s]\n"
     ]
    },
    {
     "name": "stdout",
     "output_type": "stream",
     "text": [
      "found 35 labels and 32 negative labels in nn02d_20180522_000000.wav\n"
     ]
    },
    {
     "name": "stderr",
     "output_type": "stream",
     "text": [
      "100%|██████████| 35/35 [00:00<00:00, 757.45it/s]\n",
      "100%|██████████| 32/32 [00:00<00:00, 159.63it/s]\n"
     ]
    },
    {
     "name": "stdout",
     "output_type": "stream",
     "text": [
      "found 30 labels and 11 negative labels in nn02f_20180817_000000.wav\n"
     ]
    },
    {
     "name": "stderr",
     "output_type": "stream",
     "text": [
      "100%|██████████| 30/30 [00:00<00:00, 1162.91it/s]\n",
      "100%|██████████| 11/11 [00:00<00:00, 115.93it/s]\n"
     ]
    },
    {
     "name": "stdout",
     "output_type": "stream",
     "text": [
      "found 47 labels and 52 negative labels in nn01f_20180709_000000.wav\n"
     ]
    },
    {
     "name": "stderr",
     "output_type": "stream",
     "text": [
      "100%|██████████| 47/47 [00:00<00:00, 942.86it/s]\n",
      "100%|██████████| 52/52 [00:00<00:00, 97.28it/s] \n"
     ]
    },
    {
     "name": "stdout",
     "output_type": "stream",
     "text": [
      "found 61 labels and 49 negative labels in nn06a_20181220_020245.wav\n"
     ]
    },
    {
     "name": "stderr",
     "output_type": "stream",
     "text": [
      "100%|██████████| 61/61 [00:00<00:00, 661.45it/s]\n",
      "100%|██████████| 49/49 [00:00<00:00, 200.80it/s]\n"
     ]
    },
    {
     "name": "stdout",
     "output_type": "stream",
     "text": [
      "found 9 labels and 11 negative labels in nn06a_20190128_020245.wav\n"
     ]
    },
    {
     "name": "stderr",
     "output_type": "stream",
     "text": [
      "100%|██████████| 9/9 [00:00<00:00, 530.27it/s]\n",
      "100%|██████████| 11/11 [00:00<00:00, 104.33it/s]\n"
     ]
    },
    {
     "name": "stdout",
     "output_type": "stream",
     "text": [
      "found 506 labels and 441 negative labels in madj_20150104_000000.wav\n"
     ]
    },
    {
     "name": "stderr",
     "output_type": "stream",
     "text": [
      "100%|██████████| 506/506 [00:00<00:00, 1247.55it/s]\n",
      "100%|██████████| 441/441 [00:05<00:00, 73.64it/s] \n"
     ]
    },
    {
     "name": "stdout",
     "output_type": "stream",
     "text": [
      "found 10 labels and 15 negative labels in nn02a_20180504_000000.wav\n"
     ]
    },
    {
     "name": "stderr",
     "output_type": "stream",
     "text": [
      "100%|██████████| 10/10 [00:00<00:00, 265.98it/s]\n",
      "100%|██████████| 15/15 [00:00<00:00, 110.14it/s]\n"
     ]
    },
    {
     "name": "stdout",
     "output_type": "stream",
     "text": [
      "found 6 labels and 5 negative labels in nn02b_20180510_000000.wav\n"
     ]
    },
    {
     "name": "stderr",
     "output_type": "stream",
     "text": [
      "100%|██████████| 6/6 [00:00<00:00, 59.35it/s]\n",
      "100%|██████████| 5/5 [00:00<00:00, 121.71it/s]\n"
     ]
    },
    {
     "name": "stdout",
     "output_type": "stream",
     "text": [
      "found 2 labels and 3 negative labels in nn04c_20180415_000000.wav\n"
     ]
    },
    {
     "name": "stderr",
     "output_type": "stream",
     "text": [
      "100%|██████████| 2/2 [00:00<00:00, 78.84it/s]\n",
      "100%|██████████| 3/3 [00:00<00:00, 207.27it/s]\n"
     ]
    },
    {
     "name": "stdout",
     "output_type": "stream",
     "text": [
      "found 26 labels and 39 negative labels in nn02g_20180821_000000.wav\n"
     ]
    },
    {
     "name": "stderr",
     "output_type": "stream",
     "text": [
      "100%|██████████| 26/26 [00:00<00:00, 848.82it/s]\n",
      "100%|██████████| 39/39 [00:00<00:00, 158.07it/s]\n"
     ]
    },
    {
     "name": "stdout",
     "output_type": "stream",
     "text": [
      "found 230 labels and 193 negative labels in ceb1_20110103_000000.wav\n"
     ]
    },
    {
     "name": "stderr",
     "output_type": "stream",
     "text": [
      "100%|██████████| 230/230 [00:00<00:00, 1290.61it/s]\n",
      "100%|██████████| 193/193 [00:01<00:00, 192.52it/s]\n"
     ]
    },
    {
     "name": "stdout",
     "output_type": "stream",
     "text": [
      "found 28 labels and 20 negative labels in nn10b_20180728_000000.wav\n"
     ]
    },
    {
     "name": "stderr",
     "output_type": "stream",
     "text": [
      "100%|██████████| 28/28 [00:00<00:00, 1148.01it/s]\n",
      "100%|██████████| 20/20 [00:00<00:00, 95.50it/s]\n"
     ]
    },
    {
     "name": "stdout",
     "output_type": "stream",
     "text": [
      "found 64 labels and 59 negative labels in CEB1_20120811_000000.wav\n"
     ]
    },
    {
     "name": "stderr",
     "output_type": "stream",
     "text": [
      "100%|██████████| 64/64 [00:00<00:00, 956.15it/s]\n",
      "100%|██████████| 59/59 [00:00<00:00, 113.95it/s]\n"
     ]
    },
    {
     "name": "stdout",
     "output_type": "stream",
     "text": [
      "found 47 labels and 43 negative labels in nn01a_20180305_000000.wav\n"
     ]
    },
    {
     "name": "stderr",
     "output_type": "stream",
     "text": [
      "100%|██████████| 47/47 [00:00<00:00, 484.98it/s]\n",
      "100%|██████████| 43/43 [00:00<00:00, 107.28it/s]\n"
     ]
    },
    {
     "name": "stdout",
     "output_type": "stream",
     "text": [
      "found 10 labels and 8 negative labels in nn01c_20180425_000000.wav\n"
     ]
    },
    {
     "name": "stderr",
     "output_type": "stream",
     "text": [
      "100%|██████████| 10/10 [00:00<00:00, 228.05it/s]\n",
      "100%|██████████| 8/8 [00:00<00:00, 63.79it/s]\n"
     ]
    },
    {
     "name": "stdout",
     "output_type": "stream",
     "text": [
      "found 22 labels and 30 negative labels in nn01c_20180524_000000.wav\n"
     ]
    },
    {
     "name": "stderr",
     "output_type": "stream",
     "text": [
      "100%|██████████| 22/22 [00:00<00:00, 842.71it/s]\n",
      "100%|██████████| 30/30 [00:00<00:00, 153.24it/s]\n"
     ]
    },
    {
     "name": "stdout",
     "output_type": "stream",
     "text": [
      "found 9 labels and 7 negative labels in nn01a_20180126_000000.wav\n"
     ]
    },
    {
     "name": "stderr",
     "output_type": "stream",
     "text": [
      "100%|██████████| 9/9 [00:00<00:00, 1342.65it/s]\n",
      "100%|██████████| 7/7 [00:00<00:00, 137.04it/s]\n"
     ]
    },
    {
     "name": "stdout",
     "output_type": "stream",
     "text": [
      "found 85 labels and 89 negative labels in jobo_20160622_000000.wav\n"
     ]
    },
    {
     "name": "stderr",
     "output_type": "stream",
     "text": [
      "100%|██████████| 85/85 [00:00<00:00, 484.55it/s]\n",
      "100%|██████████| 89/89 [00:01<00:00, 75.46it/s]\n"
     ]
    },
    {
     "name": "stdout",
     "output_type": "stream",
     "text": [
      "found 36 labels and 30 negative labels in nn05a_20190102_000000.wav\n"
     ]
    },
    {
     "name": "stderr",
     "output_type": "stream",
     "text": [
      "100%|██████████| 36/36 [00:00<00:00, 857.57it/s]\n",
      "100%|██████████| 30/30 [00:00<00:00, 198.68it/s]\n"
     ]
    },
    {
     "name": "stdout",
     "output_type": "stream",
     "text": [
      "found 4 labels and 2 negative labels in nn04d_20180717_000000.wav\n"
     ]
    },
    {
     "name": "stderr",
     "output_type": "stream",
     "text": [
      "100%|██████████| 4/4 [00:00<00:00, 213.16it/s]\n",
      "100%|██████████| 2/2 [00:00<00:00, 50.86it/s]\n"
     ]
    },
    {
     "name": "stdout",
     "output_type": "stream",
     "text": [
      "found 42 labels and 32 negative labels in nn06a_20181101_000000.wav\n"
     ]
    },
    {
     "name": "stderr",
     "output_type": "stream",
     "text": [
      "100%|██████████| 42/42 [00:00<00:00, 1001.86it/s]\n",
      "100%|██████████| 32/32 [00:00<00:00, 71.06it/s] \n"
     ]
    },
    {
     "name": "stdout",
     "output_type": "stream",
     "text": [
      "found 14 labels and 16 negative labels in nn05b_20190209_000000.wav\n"
     ]
    },
    {
     "name": "stderr",
     "output_type": "stream",
     "text": [
      "100%|██████████| 14/14 [00:00<00:00, 366.01it/s]\n",
      "100%|██████████| 16/16 [00:00<00:00, 68.33it/s]\n"
     ]
    },
    {
     "name": "stdout",
     "output_type": "stream",
     "text": [
      "found 68 labels and 55 negative labels in nn06a_20181009_000000.wav\n"
     ]
    },
    {
     "name": "stderr",
     "output_type": "stream",
     "text": [
      "100%|██████████| 68/68 [00:00<00:00, 844.73it/s]\n",
      "100%|██████████| 55/55 [00:00<00:00, 100.14it/s]\n"
     ]
    },
    {
     "name": "stdout",
     "output_type": "stream",
     "text": [
      "found 66 labels and 60 negative labels in nn05b_20180309_000000.wav\n"
     ]
    },
    {
     "name": "stderr",
     "output_type": "stream",
     "text": [
      "100%|██████████| 66/66 [00:00<00:00, 834.68it/s]\n",
      "100%|██████████| 60/60 [00:00<00:00, 89.53it/s] \n"
     ]
    },
    {
     "name": "stdout",
     "output_type": "stream",
     "text": [
      "found 28 labels and 9 negative labels in nn06a_20180512_000000.wav\n"
     ]
    },
    {
     "name": "stderr",
     "output_type": "stream",
     "text": [
      "100%|██████████| 28/28 [00:00<00:00, 771.33it/s]\n",
      "100%|██████████| 9/9 [00:00<00:00, 68.42it/s]\n"
     ]
    },
    {
     "name": "stdout",
     "output_type": "stream",
     "text": [
      "found 2134 labels and 717 negative labels in CEB1_20111203_000000.wav\n"
     ]
    },
    {
     "name": "stderr",
     "output_type": "stream",
     "text": [
      "100%|██████████| 2134/2134 [00:01<00:00, 1494.63it/s]\n",
      "100%|██████████| 717/717 [00:10<00:00, 70.12it/s] \n"
     ]
    },
    {
     "name": "stdout",
     "output_type": "stream",
     "text": [
      "found 222 labels and 131 negative labels in madj_20141227_000000.wav\n"
     ]
    },
    {
     "name": "stderr",
     "output_type": "stream",
     "text": [
      "100%|██████████| 222/222 [00:00<00:00, 1097.18it/s]\n",
      "100%|██████████| 131/131 [00:01<00:00, 72.09it/s]\n"
     ]
    },
    {
     "name": "stdout",
     "output_type": "stream",
     "text": [
      "found 8 labels and 13 negative labels in nn09b_20180928_000000.wav\n"
     ]
    },
    {
     "name": "stderr",
     "output_type": "stream",
     "text": [
      "100%|██████████| 8/8 [00:00<00:00, 327.63it/s]\n",
      "100%|██████████| 13/13 [00:00<00:00, 89.80it/s] \n"
     ]
    },
    {
     "name": "stdout",
     "output_type": "stream",
     "text": [
      "found 13 labels and 6 negative labels in nn01b_20180309_000000.wav\n"
     ]
    },
    {
     "name": "stderr",
     "output_type": "stream",
     "text": [
      "100%|██████████| 13/13 [00:00<00:00, 413.64it/s]\n",
      "100%|██████████| 6/6 [00:00<00:00, 125.03it/s]\n"
     ]
    },
    {
     "name": "stdout",
     "output_type": "stream",
     "text": [
      "found 908 labels and 416 negative labels in jobo_20160510_000000.wav\n"
     ]
    },
    {
     "name": "stderr",
     "output_type": "stream",
     "text": [
      "100%|██████████| 908/908 [00:00<00:00, 1251.44it/s]\n",
      "100%|██████████| 416/416 [00:06<00:00, 60.56it/s] \n"
     ]
    },
    {
     "name": "stdout",
     "output_type": "stream",
     "text": [
      "found 4 labels and 2 negative labels in madj_20151221_000000.wav\n"
     ]
    },
    {
     "name": "stderr",
     "output_type": "stream",
     "text": [
      "100%|██████████| 4/4 [00:00<00:00, 172.11it/s]\n",
      "100%|██████████| 2/2 [00:00<00:00, 51.05it/s]\n"
     ]
    },
    {
     "name": "stdout",
     "output_type": "stream",
     "text": [
      "found 16 labels and 20 negative labels in nn01b_20180510_000000.wav\n"
     ]
    },
    {
     "name": "stderr",
     "output_type": "stream",
     "text": [
      "100%|██████████| 16/16 [00:00<00:00, 693.40it/s]\n",
      "100%|██████████| 20/20 [00:00<00:00, 109.03it/s]\n"
     ]
    },
    {
     "name": "stdout",
     "output_type": "stream",
     "text": [
      "found 18 labels and 33 negative labels in nn06b_20180612_000000.wav\n"
     ]
    },
    {
     "name": "stderr",
     "output_type": "stream",
     "text": [
      "100%|██████████| 18/18 [00:00<00:00, 571.69it/s]\n",
      "100%|██████████| 33/33 [00:00<00:00, 78.63it/s]\n"
     ]
    },
    {
     "name": "stdout",
     "output_type": "stream",
     "text": [
      "found 4 labels and 5 negative labels in jobo_20160623_000000.wav\n"
     ]
    },
    {
     "name": "stderr",
     "output_type": "stream",
     "text": [
      "100%|██████████| 4/4 [00:00<00:00, 226.45it/s]\n",
      "100%|██████████| 5/5 [00:00<00:00, 133.21it/s]\n"
     ]
    },
    {
     "name": "stdout",
     "output_type": "stream",
     "text": [
      "found 279 labels and 145 negative labels in ceb1_20110306_000000.wav\n"
     ]
    },
    {
     "name": "stderr",
     "output_type": "stream",
     "text": [
      "100%|██████████| 279/279 [00:00<00:00, 913.07it/s]\n",
      "100%|██████████| 145/145 [00:01<00:00, 107.05it/s]\n"
     ]
    },
    {
     "name": "stdout",
     "output_type": "stream",
     "text": [
      "found 94 labels and 86 negative labels in madj_20150202_000000.wav\n"
     ]
    },
    {
     "name": "stderr",
     "output_type": "stream",
     "text": [
      "100%|██████████| 94/94 [00:00<00:00, 976.31it/s]\n",
      "100%|██████████| 86/86 [00:01<00:00, 85.35it/s] \n"
     ]
    },
    {
     "name": "stdout",
     "output_type": "stream",
     "text": [
      "found 33 labels and 33 negative labels in nn01f_20180728_000000.wav\n"
     ]
    },
    {
     "name": "stderr",
     "output_type": "stream",
     "text": [
      "100%|██████████| 33/33 [00:00<00:00, 463.19it/s]\n",
      "100%|██████████| 33/33 [00:00<00:00, 69.19it/s]\n"
     ]
    },
    {
     "name": "stdout",
     "output_type": "stream",
     "text": [
      "found 9 labels and 13 negative labels in nn05a_20180426_000000.wav\n"
     ]
    },
    {
     "name": "stderr",
     "output_type": "stream",
     "text": [
      "100%|██████████| 9/9 [00:00<00:00, 377.36it/s]\n",
      "100%|██████████| 13/13 [00:00<00:00, 80.16it/s]\n"
     ]
    },
    {
     "name": "stdout",
     "output_type": "stream",
     "text": [
      "found 53 labels and 71 negative labels in CEB1_20150810_000000.wav\n"
     ]
    },
    {
     "name": "stderr",
     "output_type": "stream",
     "text": [
      "100%|██████████| 53/53 [00:00<00:00, 764.50it/s]\n",
      "100%|██████████| 71/71 [00:00<00:00, 83.33it/s] \n"
     ]
    },
    {
     "name": "stdout",
     "output_type": "stream",
     "text": [
      "found 11 labels and 18 negative labels in nn03d_20180916_000000.wav\n"
     ]
    },
    {
     "name": "stderr",
     "output_type": "stream",
     "text": [
      "100%|██████████| 11/11 [00:00<00:00, 360.81it/s]\n",
      "100%|██████████| 18/18 [00:00<00:00, 98.06it/s] \n"
     ]
    },
    {
     "name": "stdout",
     "output_type": "stream",
     "text": [
      "found 32 labels and 27 negative labels in nn03e_20180911_000000.wav\n"
     ]
    },
    {
     "name": "stderr",
     "output_type": "stream",
     "text": [
      "100%|██████████| 32/32 [00:00<00:00, 792.95it/s]\n",
      "100%|██████████| 27/27 [00:00<00:00, 84.64it/s]\n"
     ]
    },
    {
     "name": "stdout",
     "output_type": "stream",
     "text": [
      "found 148 labels and 125 negative labels in madj_20160427_000000.wav\n"
     ]
    },
    {
     "name": "stderr",
     "output_type": "stream",
     "text": [
      "100%|██████████| 148/148 [00:00<00:00, 1641.17it/s]\n",
      "100%|██████████| 125/125 [00:00<00:00, 151.21it/s]\n"
     ]
    },
    {
     "name": "stdout",
     "output_type": "stream",
     "text": [
      "found 42 labels and 31 negative labels in nn06a_20180721_000000.wav\n"
     ]
    },
    {
     "name": "stderr",
     "output_type": "stream",
     "text": [
      "100%|██████████| 42/42 [00:00<00:00, 974.38it/s]\n",
      "100%|██████████| 31/31 [00:00<00:00, 111.33it/s]\n"
     ]
    },
    {
     "name": "stdout",
     "output_type": "stream",
     "text": [
      "found 1909 labels and 670 negative labels in CEB1_20111211_000000.wav\n"
     ]
    },
    {
     "name": "stderr",
     "output_type": "stream",
     "text": [
      "100%|██████████| 1909/1909 [00:01<00:00, 1294.16it/s]\n",
      "100%|██████████| 670/670 [00:02<00:00, 240.27it/s]\n"
     ]
    },
    {
     "name": "stdout",
     "output_type": "stream",
     "text": [
      "found 181 labels and 127 negative labels in madj_20151228_000000.wav\n"
     ]
    },
    {
     "name": "stderr",
     "output_type": "stream",
     "text": [
      "100%|██████████| 181/181 [00:00<00:00, 1081.47it/s]\n",
      "100%|██████████| 127/127 [00:01<00:00, 94.52it/s] \n"
     ]
    },
    {
     "name": "stdout",
     "output_type": "stream",
     "text": [
      "found 328 labels and 205 negative labels in CEB1_20120826_000000.wav\n"
     ]
    },
    {
     "name": "stderr",
     "output_type": "stream",
     "text": [
      "100%|██████████| 328/328 [00:00<00:00, 877.75it/s]\n",
      "100%|██████████| 205/205 [00:02<00:00, 74.75it/s] \n"
     ]
    },
    {
     "name": "stdout",
     "output_type": "stream",
     "text": [
      "found 440 labels and 296 negative labels in CEB1_20150818_000000.wav\n"
     ]
    },
    {
     "name": "stderr",
     "output_type": "stream",
     "text": [
      "100%|██████████| 440/440 [00:00<00:00, 1354.12it/s]\n",
      "100%|██████████| 296/296 [00:04<00:00, 66.88it/s] \n"
     ]
    },
    {
     "name": "stdout",
     "output_type": "stream",
     "text": [
      "found 68 labels and 69 negative labels in madj_20150206_000000.wav\n"
     ]
    },
    {
     "name": "stderr",
     "output_type": "stream",
     "text": [
      "100%|██████████| 68/68 [00:00<00:00, 1390.35it/s]\n",
      "100%|██████████| 69/69 [00:00<00:00, 129.68it/s]\n"
     ]
    },
    {
     "name": "stdout",
     "output_type": "stream",
     "text": [
      "found 20 labels and 12 negative labels in nn03f_20180806_000000.wav\n"
     ]
    },
    {
     "name": "stderr",
     "output_type": "stream",
     "text": [
      "100%|██████████| 20/20 [00:00<00:00, 437.58it/s]\n",
      "100%|██████████| 12/12 [00:00<00:00, 196.06it/s]\n"
     ]
    },
    {
     "name": "stdout",
     "output_type": "stream",
     "text": [
      "found 768 labels and 332 negative labels in CEB1_20111113_000000.wav\n"
     ]
    },
    {
     "name": "stderr",
     "output_type": "stream",
     "text": [
      "100%|██████████| 768/768 [00:00<00:00, 1191.01it/s]\n",
      "100%|██████████| 332/332 [00:06<00:00, 48.11it/s] \n"
     ]
    },
    {
     "name": "stdout",
     "output_type": "stream",
     "text": [
      "found 6 labels and 10 negative labels in nn03b_20180928_000000.wav\n"
     ]
    },
    {
     "name": "stderr",
     "output_type": "stream",
     "text": [
      "100%|██████████| 6/6 [00:00<00:00, 199.55it/s]\n",
      "100%|██████████| 10/10 [00:00<00:00, 82.74it/s]\n"
     ]
    },
    {
     "name": "stdout",
     "output_type": "stream",
     "text": [
      "found 40 labels and 30 negative labels in nn02f_20180803_000000.wav\n"
     ]
    },
    {
     "name": "stderr",
     "output_type": "stream",
     "text": [
      "100%|██████████| 40/40 [00:00<00:00, 813.22it/s]\n",
      "100%|██████████| 30/30 [00:00<00:00, 73.44it/s]\n"
     ]
    },
    {
     "name": "stdout",
     "output_type": "stream",
     "text": [
      "found 20 labels and 23 negative labels in nn03d_20180817_000000.wav\n"
     ]
    },
    {
     "name": "stderr",
     "output_type": "stream",
     "text": [
      "100%|██████████| 20/20 [00:00<00:00, 704.70it/s]\n",
      "100%|██████████| 23/23 [00:00<00:00, 93.20it/s] \n"
     ]
    },
    {
     "name": "stdout",
     "output_type": "stream",
     "text": [
      "found 241 labels and 150 negative labels in madj_20141223_000000.wav\n"
     ]
    },
    {
     "name": "stderr",
     "output_type": "stream",
     "text": [
      "100%|██████████| 241/241 [00:00<00:00, 413.73it/s]\n",
      "100%|██████████| 150/150 [00:00<00:00, 170.32it/s]\n"
     ]
    },
    {
     "name": "stdout",
     "output_type": "stream",
     "text": [
      "found 15 labels and 25 negative labels in nn05d_20180702_000000.wav\n"
     ]
    },
    {
     "name": "stderr",
     "output_type": "stream",
     "text": [
      "100%|██████████| 15/15 [00:00<00:00, 1019.34it/s]\n",
      "100%|██████████| 25/25 [00:00<00:00, 198.91it/s]\n"
     ]
    },
    {
     "name": "stdout",
     "output_type": "stream",
     "text": [
      "found 4 labels and 5 negative labels in nn01c_20180302_000000.wav\n"
     ]
    },
    {
     "name": "stderr",
     "output_type": "stream",
     "text": [
      "100%|██████████| 4/4 [00:00<00:00, 235.83it/s]\n",
      "100%|██████████| 5/5 [00:00<00:00, 131.17it/s]\n"
     ]
    },
    {
     "name": "stdout",
     "output_type": "stream",
     "text": [
      "found 3 labels and 5 negative labels in nn01a_20180324_000000.wav\n"
     ]
    },
    {
     "name": "stderr",
     "output_type": "stream",
     "text": [
      "100%|██████████| 3/3 [00:00<00:00, 153.97it/s]\n",
      "100%|██████████| 5/5 [00:00<00:00, 116.65it/s]\n"
     ]
    },
    {
     "name": "stdout",
     "output_type": "stream",
     "text": [
      "found 574 labels and 257 negative labels in ceb1_20110320_000000.wav\n"
     ]
    },
    {
     "name": "stderr",
     "output_type": "stream",
     "text": [
      "100%|██████████| 574/574 [00:00<00:00, 1108.08it/s]\n",
      "100%|██████████| 257/257 [00:04<00:00, 61.51it/s] \n"
     ]
    },
    {
     "name": "stdout",
     "output_type": "stream",
     "text": [
      "found 18 labels and 29 negative labels in nn05a_20180531_000000.wav\n"
     ]
    },
    {
     "name": "stderr",
     "output_type": "stream",
     "text": [
      "100%|██████████| 18/18 [00:00<00:00, 381.40it/s]\n",
      "100%|██████████| 29/29 [00:00<00:00, 145.93it/s]\n"
     ]
    },
    {
     "name": "stdout",
     "output_type": "stream",
     "text": [
      "found 8 labels and 6 negative labels in nn01a_20180706_000000.wav\n"
     ]
    },
    {
     "name": "stderr",
     "output_type": "stream",
     "text": [
      "100%|██████████| 8/8 [00:00<00:00, 190.68it/s]\n",
      "100%|██████████| 6/6 [00:00<00:00, 52.66it/s]\n"
     ]
    },
    {
     "name": "stdout",
     "output_type": "stream",
     "text": [
      "found 403 labels and 237 negative labels in ceb1_20110128_000000.wav\n"
     ]
    },
    {
     "name": "stderr",
     "output_type": "stream",
     "text": [
      "100%|██████████| 403/403 [00:00<00:00, 1214.04it/s]\n",
      "100%|██████████| 237/237 [00:02<00:00, 85.29it/s] \n"
     ]
    },
    {
     "name": "stdout",
     "output_type": "stream",
     "text": [
      "found 34 labels and 40 negative labels in nn06b_20190206_000000.wav\n"
     ]
    },
    {
     "name": "stderr",
     "output_type": "stream",
     "text": [
      "100%|██████████| 34/34 [00:00<00:00, 469.50it/s]\n",
      "100%|██████████| 40/40 [00:00<00:00, 94.52it/s] \n"
     ]
    },
    {
     "name": "stdout",
     "output_type": "stream",
     "text": [
      "found 12 labels and 13 negative labels in nn06b_20190119_000000.wav\n"
     ]
    },
    {
     "name": "stderr",
     "output_type": "stream",
     "text": [
      "100%|██████████| 12/12 [00:00<00:00, 251.43it/s]\n",
      "100%|██████████| 13/13 [00:00<00:00, 102.90it/s]\n"
     ]
    },
    {
     "name": "stdout",
     "output_type": "stream",
     "text": [
      "found 59 labels and 27 negative labels in nn02c_20180818_000000.wav\n"
     ]
    },
    {
     "name": "stderr",
     "output_type": "stream",
     "text": [
      "100%|██████████| 59/59 [00:00<00:00, 995.17it/s]\n",
      "100%|██████████| 27/27 [00:00<00:00, 71.74it/s]\n"
     ]
    },
    {
     "name": "stdout",
     "output_type": "stream",
     "text": [
      "found 123 labels and 157 negative labels in CEB1_20120715_000000.wav\n"
     ]
    },
    {
     "name": "stderr",
     "output_type": "stream",
     "text": [
      "100%|██████████| 123/123 [00:00<00:00, 1522.11it/s]\n",
      "100%|██████████| 157/157 [00:01<00:00, 121.42it/s]\n"
     ]
    },
    {
     "name": "stdout",
     "output_type": "stream",
     "text": [
      "found 13 labels and 9 negative labels in nn03b_20180923_000000.wav\n"
     ]
    },
    {
     "name": "stderr",
     "output_type": "stream",
     "text": [
      "100%|██████████| 13/13 [00:00<00:00, 438.72it/s]\n",
      "100%|██████████| 9/9 [00:00<00:00, 80.23it/s]\n"
     ]
    },
    {
     "name": "stdout",
     "output_type": "stream",
     "text": [
      "found 71 labels and 85 negative labels in nn08c_20180902_000000.wav\n"
     ]
    },
    {
     "name": "stderr",
     "output_type": "stream",
     "text": [
      "100%|██████████| 71/71 [00:00<00:00, 3974.48it/s]\n",
      "100%|██████████| 85/85 [00:00<00:00, 2784.63it/s]\n"
     ]
    },
    {
     "name": "stdout",
     "output_type": "stream",
     "text": [
      "found 8 labels and 7 negative labels in nn06a_20190216_020245.wav\n"
     ]
    },
    {
     "name": "stderr",
     "output_type": "stream",
     "text": [
      "100%|██████████| 8/8 [00:00<00:00, 253.00it/s]\n",
      "100%|██████████| 7/7 [00:00<00:00, 99.57it/s]\n"
     ]
    },
    {
     "name": "stdout",
     "output_type": "stream",
     "text": [
      "found 27 labels and 26 negative labels in nn05d_20181118_000000.wav\n"
     ]
    },
    {
     "name": "stderr",
     "output_type": "stream",
     "text": [
      "100%|██████████| 27/27 [00:00<00:00, 515.43it/s]\n",
      "100%|██████████| 26/26 [00:00<00:00, 147.84it/s]\n"
     ]
    },
    {
     "name": "stdout",
     "output_type": "stream",
     "text": [
      "found 41 labels and 48 negative labels in nn06b_20181121_000000.wav\n"
     ]
    },
    {
     "name": "stderr",
     "output_type": "stream",
     "text": [
      "100%|██████████| 41/41 [00:00<00:00, 1334.53it/s]\n",
      "100%|██████████| 48/48 [00:00<00:00, 87.96it/s] \n"
     ]
    },
    {
     "name": "stdout",
     "output_type": "stream",
     "text": [
      "found 55 labels and 37 negative labels in nn02d_20180608_000000.wav\n"
     ]
    },
    {
     "name": "stderr",
     "output_type": "stream",
     "text": [
      "100%|██████████| 55/55 [00:00<00:00, 912.54it/s]\n",
      "100%|██████████| 37/37 [00:00<00:00, 102.93it/s]\n"
     ]
    },
    {
     "name": "stdout",
     "output_type": "stream",
     "text": [
      "found 341 labels and 186 negative labels in CEB1_20150814_000000.wav\n"
     ]
    },
    {
     "name": "stderr",
     "output_type": "stream",
     "text": [
      "100%|██████████| 341/341 [00:00<00:00, 1765.29it/s]\n",
      "100%|██████████| 186/186 [00:00<00:00, 190.61it/s]\n"
     ]
    },
    {
     "name": "stdout",
     "output_type": "stream",
     "text": [
      "found 29 labels and 15 negative labels in nn01d_20180730_000000.wav\n"
     ]
    },
    {
     "name": "stderr",
     "output_type": "stream",
     "text": [
      "100%|██████████| 29/29 [00:00<00:00, 249.76it/s]\n",
      "100%|██████████| 15/15 [00:00<00:00, 61.99it/s]\n"
     ]
    },
    {
     "name": "stdout",
     "output_type": "stream",
     "text": [
      "found 95 labels and 76 negative labels in CEB1_20120630_000000.wav\n"
     ]
    },
    {
     "name": "stderr",
     "output_type": "stream",
     "text": [
      "100%|██████████| 95/95 [00:00<00:00, 772.36it/s]\n",
      "100%|██████████| 76/76 [00:00<00:00, 102.00it/s]\n"
     ]
    },
    {
     "name": "stdout",
     "output_type": "stream",
     "text": [
      "found 649 labels and 208 negative labels in madj_20141229_000000.wav\n"
     ]
    },
    {
     "name": "stderr",
     "output_type": "stream",
     "text": [
      "100%|██████████| 649/649 [00:00<00:00, 1211.15it/s]\n",
      "100%|██████████| 208/208 [00:04<00:00, 45.76it/s]\n"
     ]
    },
    {
     "name": "stdout",
     "output_type": "stream",
     "text": [
      "found 976 labels and 399 negative labels in madj_20150109_000000.wav\n"
     ]
    },
    {
     "name": "stderr",
     "output_type": "stream",
     "text": [
      "100%|██████████| 976/976 [00:00<00:00, 1233.80it/s]\n",
      "100%|██████████| 399/399 [00:07<00:00, 54.15it/s] \n"
     ]
    },
    {
     "name": "stdout",
     "output_type": "stream",
     "text": [
      "found 14 labels and 11 negative labels in nn05b_20180617_000000.wav\n"
     ]
    },
    {
     "name": "stderr",
     "output_type": "stream",
     "text": [
      "100%|██████████| 14/14 [00:00<00:00, 306.62it/s]\n",
      "100%|██████████| 11/11 [00:00<00:00, 67.04it/s]\n"
     ]
    },
    {
     "name": "stdout",
     "output_type": "stream",
     "text": [
      "initially, the shapes were torch.Size([183074, 768]) torch.Size([1308497, 768])\n",
      "or a ratio of 7.147366638627004\n",
      "from 194 found torch.Size([183074, 768]) positive and torch.Size([183074, 768]) negatives\n"
     ]
    }
   ],
   "source": [
    "training_files = raven_file_helper.get_files_from_train_folder()\n",
    "print(training_files[0:3],\"...\")\n",
    "training_dataset = make_dataset(training_files)\n",
    "training_dataset_name = 'from_train_folder'\n"
   ]
  },
  {
   "cell_type": "markdown",
   "metadata": {},
   "source": [
    "## Create Data Loaders from that datset"
   ]
  },
  {
   "cell_type": "code",
   "execution_count": 42,
   "metadata": {},
   "outputs": [],
   "source": [
    "\n",
    "train_ds,test_ds,val_ds = torch.utils.data.random_split(training_dataset, [0.8, 0.1, 0.1], generator=torch.Generator().manual_seed(42))\n",
    "batch_size = 64\n",
    "train_loader = DataLoader(train_ds, batch_size=batch_size, shuffle=True, num_workers=0)\n",
    "test_loader = DataLoader(test_ds, batch_size=batch_size, shuffle=True, num_workers=0)\n",
    "val_loader = DataLoader(val_ds, batch_size=batch_size, shuffle=True, num_workers=0)\n",
    "\n"
   ]
  },
  {
   "cell_type": "markdown",
   "metadata": {},
   "source": [
    "## Training loop.\n",
    "\n",
    "Monitor its progress with:\n",
    "\n",
    "tensorboard --logdir ./tensorboard_output/ \n"
   ]
  },
  {
   "cell_type": "code",
   "execution_count": 19,
   "metadata": {},
   "outputs": [
    {
     "name": "stdout",
     "output_type": "stream",
     "text": [
      "[1, 572, 8.78] train loss: 9.43 val_loss: 7.47, 35613 correct, 1001 incorrect\n",
      "[2, 572, 17.38] train loss: 7.91 val_loss: 6.83, 35729 correct, 885 incorrect\n",
      "[3, 572, 25.43] train loss: 7.34 val_loss: 6.60, 35764 correct, 850 incorrect\n",
      "[4, 572, 33.76] train loss: 6.99 val_loss: 6.35, 35794 correct, 820 incorrect\n",
      "[5, 572, 42.27] train loss: 6.67 val_loss: 6.21, 35818 correct, 796 incorrect\n",
      "[6, 572, 50.63] train loss: 6.50 val_loss: 6.04, 35868 correct, 746 incorrect\n",
      "[7, 572, 58.38] train loss: 6.27 val_loss: 6.01, 35851 correct, 763 incorrect\n",
      "[8, 572, 66.60] train loss: 6.13 val_loss: 5.87, 35863 correct, 751 incorrect\n",
      "[9, 572, 75.01] train loss: 5.92 val_loss: 5.89, 35870 correct, 744 incorrect\n",
      "[10, 572, 82.83] train loss: 5.79 val_loss: 6.19, 35807 correct, 807 incorrect\n",
      "[11, 572, 90.54] train loss: 5.63 val_loss: 5.75, 35896 correct, 718 incorrect\n",
      "[12, 572, 98.76] train loss: 5.55 val_loss: 5.72, 35882 correct, 732 incorrect\n",
      "[13, 572, 106.30] train loss: 5.41 val_loss: 5.67, 35905 correct, 709 incorrect\n",
      "[14, 572, 114.01] train loss: 5.32 val_loss: 5.63, 35913 correct, 701 incorrect\n",
      "[15, 572, 122.27] train loss: 5.16 val_loss: 5.61, 35936 correct, 678 incorrect\n"
     ]
    }
   ],
   "source": [
    "import torch\n",
    "import torch.nn as nn # number of features (len of X cols)\n",
    "import datetime\n",
    "\n",
    "from torch.utils.tensorboard import SummaryWriter\n",
    "input_dim = 768  # train_ds[0][0].shape[0]\n",
    "output_dim = 2\n",
    "hidden_layer_dim1 = input_dim//4 # with dropout, //8 is as good as //4\n",
    "dropout=0.2\n",
    "training_name=f\"dropout={dropout}_both_{hidden_layer_dim1}\"\n",
    "\n",
    "class MyNetwork(nn.Module):\n",
    "  def __init__(self):\n",
    "    super(MyNetwork, self).__init__()\n",
    "    self.act = nn.LeakyReLU()  # Trained way faster than ReLU or GELU\n",
    "    self.linear1 = nn.Linear(input_dim, hidden_layer_dim1)\n",
    "    self.linear2 = nn.Linear(hidden_layer_dim1,output_dim)\n",
    "    self.dropout = nn.Dropout(p=dropout) \n",
    "\n",
    "  def forward(self, x):\n",
    "    x = self.dropout(x)\n",
    "    x = self.linear1(x)\n",
    "    x = self.act(x)\n",
    "    x = self.dropout(x)\n",
    "    x = self.linear2(x)\n",
    "    return x\n",
    "\n",
    "my_classifier = MyNetwork()\n",
    "\n",
    "writer = SummaryWriter(f\"tensorboard_output/try_{datetime.datetime.now().isoformat()}_{training_name}\")\n",
    "criterion = nn.CrossEntropyLoss()\n",
    "#optimizer = torch.optim.SGD(my_classifier.parameters()) # slow\n",
    "#optimizer = torch.optim.SGD(my_classifier.parameters(), lr=0.01, momentum=0.9) # never converges\n",
    "#optimizer = torch.optim.RMSprop(my_classifier.parameters()) # noisy\n",
    "optimizer = torch.optim.Adam(my_classifier.parameters())\n",
    "\n",
    "epochs = 20000\n",
    "import time\n",
    "allowed_time = 60*2\n",
    "t0 = time.time()\n",
    "t1 = t0-10\n",
    "min_val_loss = 1000 * 1000\n",
    "for epoch in range(epochs):\n",
    "  running_loss = 0.0\n",
    "  running_count = 0\n",
    "  my_classifier.train()\n",
    "  for i, data in enumerate(train_loader):\n",
    "    inputs, labels = data\n",
    "    optimizer.zero_grad()\n",
    "    outputs = my_classifier(inputs)\n",
    "    loss = criterion(outputs, labels)\n",
    "    loss.backward()\n",
    "    optimizer.step()\n",
    "    running_loss += loss.item() * inputs.size(0)\n",
    "    running_count += inputs.size(0)\n",
    "  running_loss /= running_count\n",
    "\n",
    "  my_classifier.eval()\n",
    "  running_val_loss = 0.0\n",
    "  running_val_count = 0\n",
    "  running_val_corrects = 0\n",
    "  running_val_incorrects = 0\n",
    "  with torch.no_grad():\n",
    "      for i, data in enumerate(val_loader):\n",
    "          inputs, labels = data\n",
    "          outputs = my_classifier(inputs)\n",
    "          loss = criterion(outputs, labels)\n",
    "          __, predicted = torch.max(outputs.data, 1)  # vals,indices\n",
    "          running_val_loss += loss.item() * inputs.size(0)\n",
    "          running_val_corrects  += torch.sum(predicted == labels.data)\n",
    "          running_val_incorrects += torch.sum(predicted != labels.data)\n",
    "          running_val_count += inputs.size(0)\n",
    "      running_val_loss /= running_val_count\n",
    "\n",
    "  # display statistics\n",
    "  if time.time() - t1 > 0:\n",
    "      t1 = time.time()\n",
    "      print(f'[{epoch + 1}, {i}, {t1-t0:.2f}] train loss: {running_loss*100:.2f} val_loss: {running_val_loss*100:.2f}, {running_val_corrects} correct, {running_val_incorrects} incorrect')\n",
    "      writer.add_scalar('Loss/train', running_loss, epoch)\n",
    "      writer.add_scalar('Loss/val', running_val_loss, epoch)\n",
    "  if epoch+1 >= epochs:\n",
    "     print(f'stoping at {epoch+1}')\n",
    "     break\n",
    "  if running_val_loss > min_val_loss * 1.15 *2:\n",
    "     print(\"val loss increasing, stopping\")\n",
    "     epochs = epoch\n",
    "     break\n",
    "  if min_val_loss > running_val_loss:\n",
    "    min_val_loss = running_val_loss\n",
    "  if time.time() - t0 > allowed_time:\n",
    "      break\n",
    "\n"
   ]
  },
  {
   "cell_type": "markdown",
   "metadata": {},
   "source": [
    "## Save the model"
   ]
  },
  {
   "cell_type": "code",
   "execution_count": 49,
   "metadata": {},
   "outputs": [],
   "source": [
    "# Save the model\n",
    "if save_the_model := True:\n",
    "    dttm = datetime.datetime.now().isoformat()\n",
    "    model_file =  f\"elephant_rumble_classifier_{AVES_SR}_{hidden_layer_dim1}_{dttm}_{training_dataset_name}_valloss={running_val_loss*100:.2f}.pth\"\n",
    "    torch.save(my_classifier.state_dict(),model_file)"
   ]
  },
  {
   "cell_type": "markdown",
   "metadata": {},
   "source": [
    "## Spot check on a single file"
   ]
  },
  {
   "cell_type": "code",
   "execution_count": 51,
   "metadata": {},
   "outputs": [
    {
     "name": "stdout",
     "output_type": "stream",
     "text": [
      "  loaded audio in 0.02761983871459961\n",
      "  duration intended= 600 actual= 600.0\n",
      "  did stft in 0.060416460037231445\n",
      "  coloring at 0.10380077362060547\n",
      "  plotting at 0.1101081371307373\n",
      "  specshow done at 0.29012632369995117\n",
      "  saving at 0.30768656730651855\n",
      "  visualizations saved to /tmp/model_output.png at 1.8996636867523193\n"
     ]
    }
   ],
   "source": [
    "if DEBUG:\n",
    "    audio_file = 'CEB1_20111010_000000.wav'\n",
    "    labels = raven_file_helper.get_all_labels_for_wav_file(audio_file)\n",
    "    start_time = 0\n",
    "    duration=60*10\n",
    "    embs = get_aves_embeddings_from_file_with_buffers(audio_file,start_time, duration,100,30,sr=AVES_SR).to('cpu')\n",
    "    with torch.inference_mode():\n",
    "        scores = my_classifier.forward(embs)\n",
    "\n",
    "    #visualization_helper.visualize_similarity_on_spectrogams(\n",
    "    ##    audio_file, start_time,duration,similarity,\n",
    "    #    dissimilarity,sr=500,n_fft=512,modelname=\"AVES_base_model\")\n",
    "    \n",
    "    audio_file_visualizer.visualize_audio_file_fragment(\n",
    "        f\"{audio_file} and scores\",\n",
    "        '/tmp/model_output.png',\n",
    "        audio_path,\n",
    "        scores[:,1],\n",
    "        scores[:,0],\n",
    "        audio_file_processor,\n",
    "        start_time=0,\n",
    "        end_time=60*10,\n",
    "        colormap='clean',\n",
    "        width=55,\n",
    "        labels = labels\n",
    "    )"
   ]
  },
  {
   "cell_type": "code",
   "execution_count": null,
   "metadata": {},
   "outputs": [],
   "source": [
    "#"
   ]
  },
  {
   "cell_type": "markdown",
   "metadata": {},
   "source": [
    "## Validate it against a test dataset"
   ]
  },
  {
   "cell_type": "code",
   "execution_count": 46,
   "metadata": {},
   "outputs": [
    {
     "name": "stdout",
     "output_type": "stream",
     "text": [
      "['nn05c_20201027_000100.wav', 'nn08c_20201005_000100.wav', 'nn02d_20181022_000000.wav'] ...\n",
      "found 7 labels and 11 negative labels in nn05c_20201027_000100.wav\n"
     ]
    },
    {
     "name": "stderr",
     "output_type": "stream",
     "text": [
      "100%|██████████| 7/7 [00:00<00:00, 3202.81it/s]\n",
      "100%|██████████| 11/11 [00:00<00:00, 3165.73it/s]\n"
     ]
    },
    {
     "name": "stdout",
     "output_type": "stream",
     "text": [
      "found 23 labels and 30 negative labels in nn08c_20201005_000100.wav\n"
     ]
    },
    {
     "name": "stderr",
     "output_type": "stream",
     "text": [
      "100%|██████████| 23/23 [00:00<00:00, 3643.09it/s]\n",
      "100%|██████████| 30/30 [00:00<00:00, 3610.38it/s]\n"
     ]
    },
    {
     "name": "stdout",
     "output_type": "stream",
     "text": [
      "found 25 labels and 35 negative labels in nn02d_20181022_000000.wav\n"
     ]
    },
    {
     "name": "stderr",
     "output_type": "stream",
     "text": [
      "100%|██████████| 25/25 [00:00<00:00, 3310.11it/s]\n",
      "100%|██████████| 35/35 [00:00<00:00, 2139.08it/s]\n"
     ]
    },
    {
     "name": "stdout",
     "output_type": "stream",
     "text": [
      "found 2765 labels and 429 negative labels in dz_20120222_000000.wav\n"
     ]
    },
    {
     "name": "stderr",
     "output_type": "stream",
     "text": [
      "100%|██████████| 2765/2765 [00:00<00:00, 4856.79it/s]\n",
      "100%|██████████| 429/429 [00:00<00:00, 3851.42it/s]\n"
     ]
    },
    {
     "name": "stdout",
     "output_type": "stream",
     "text": [
      "found 16 labels and 17 negative labels in nn06b_20201030_000100.wav\n"
     ]
    },
    {
     "name": "stderr",
     "output_type": "stream",
     "text": [
      "100%|██████████| 16/16 [00:00<00:00, 4079.81it/s]\n",
      "100%|██████████| 17/17 [00:00<00:00, 3564.09it/s]\n"
     ]
    },
    {
     "name": "stdout",
     "output_type": "stream",
     "text": [
      "found 23 labels and 21 negative labels in nn07b_20191022_000000.wav\n"
     ]
    },
    {
     "name": "stderr",
     "output_type": "stream",
     "text": [
      "100%|██████████| 23/23 [00:00<00:00, 3922.30it/s]\n",
      "100%|██████████| 21/21 [00:00<00:00, 3339.16it/s]\n"
     ]
    },
    {
     "name": "stdout",
     "output_type": "stream",
     "text": [
      "found 2809 labels and 902 negative labels in dz_20120201_000000.wav\n"
     ]
    },
    {
     "name": "stderr",
     "output_type": "stream",
     "text": [
      "100%|██████████| 2809/2809 [00:00<00:00, 4896.94it/s]\n",
      "100%|██████████| 902/902 [00:00<00:00, 3952.93it/s]\n"
     ]
    },
    {
     "name": "stdout",
     "output_type": "stream",
     "text": [
      "found 6 labels and 10 negative labels in nn06b_20210131_000100.wav\n"
     ]
    },
    {
     "name": "stderr",
     "output_type": "stream",
     "text": [
      "100%|██████████| 6/6 [00:00<00:00, 3452.10it/s]\n",
      "100%|██████████| 10/10 [00:00<00:00, 3361.36it/s]\n"
     ]
    },
    {
     "name": "stdout",
     "output_type": "stream",
     "text": [
      "found 12 labels and 8 negative labels in nn04a_20200314_000000.wav\n"
     ]
    },
    {
     "name": "stderr",
     "output_type": "stream",
     "text": [
      "100%|██████████| 12/12 [00:00<00:00, 3961.87it/s]\n",
      "100%|██████████| 8/8 [00:00<00:00, 3420.43it/s]\n"
     ]
    },
    {
     "name": "stdout",
     "output_type": "stream",
     "text": [
      "found 3 labels and 4 negative labels in nn04a_20181021_000000.wav\n"
     ]
    },
    {
     "name": "stderr",
     "output_type": "stream",
     "text": [
      "100%|██████████| 3/3 [00:00<00:00, 2666.44it/s]\n",
      "100%|██████████| 4/4 [00:00<00:00, 3120.18it/s]\n"
     ]
    },
    {
     "name": "stdout",
     "output_type": "stream",
     "text": [
      "found 2515 labels and 732 negative labels in dz_20120206_000000.wav\n"
     ]
    },
    {
     "name": "stderr",
     "output_type": "stream",
     "text": [
      "100%|██████████| 2515/2515 [00:00<00:00, 4912.20it/s]\n",
      "100%|██████████| 732/732 [00:00<00:00, 3907.80it/s]\n"
     ]
    },
    {
     "name": "stdout",
     "output_type": "stream",
     "text": [
      "found 18 labels and 26 negative labels in nn02b_20200120_000000.wav\n"
     ]
    },
    {
     "name": "stderr",
     "output_type": "stream",
     "text": [
      "100%|██████████| 18/18 [00:00<00:00, 4322.04it/s]\n",
      "100%|██████████| 26/26 [00:00<00:00, 3523.94it/s]\n"
     ]
    },
    {
     "name": "stdout",
     "output_type": "stream",
     "text": [
      "found 2609 labels and 446 negative labels in dz_20120222_134648.wav\n"
     ]
    },
    {
     "name": "stderr",
     "output_type": "stream",
     "text": [
      "100%|██████████| 2609/2609 [00:00<00:00, 4595.07it/s]\n",
      "100%|██████████| 446/446 [00:00<00:00, 3996.99it/s]\n"
     ]
    },
    {
     "name": "stdout",
     "output_type": "stream",
     "text": [
      "found 11 labels and 10 negative labels in nn04a_20180710_000000.wav\n"
     ]
    },
    {
     "name": "stderr",
     "output_type": "stream",
     "text": [
      "100%|██████████| 11/11 [00:00<00:00, 3877.41it/s]\n",
      "100%|██████████| 10/10 [00:00<00:00, 2747.66it/s]\n"
     ]
    },
    {
     "name": "stdout",
     "output_type": "stream",
     "text": [
      "found 5 labels and 6 negative labels in nn04a_20200104_000000.wav\n"
     ]
    },
    {
     "name": "stderr",
     "output_type": "stream",
     "text": [
      "100%|██████████| 5/5 [00:00<00:00, 2810.44it/s]\n",
      "100%|██████████| 6/6 [00:00<00:00, 2895.95it/s]\n"
     ]
    },
    {
     "name": "stdout",
     "output_type": "stream",
     "text": [
      "found 42 labels and 31 negative labels in nn04a_20191102_000000.wav\n"
     ]
    },
    {
     "name": "stderr",
     "output_type": "stream",
     "text": [
      "100%|██████████| 42/42 [00:00<00:00, 4748.78it/s]\n",
      "100%|██████████| 31/31 [00:00<00:00, 3522.14it/s]\n"
     ]
    },
    {
     "name": "stdout",
     "output_type": "stream",
     "text": [
      "found 27 labels and 50 negative labels in nn03c_20180114_000000.wav\n"
     ]
    },
    {
     "name": "stderr",
     "output_type": "stream",
     "text": [
      "100%|██████████| 27/27 [00:00<00:00, 4154.91it/s]\n",
      "100%|██████████| 50/50 [00:00<00:00, 3721.06it/s]\n"
     ]
    },
    {
     "name": "stdout",
     "output_type": "stream",
     "text": [
      "found 152 labels and 63 negative labels in nn06a_20191008_000000.wav\n"
     ]
    },
    {
     "name": "stderr",
     "output_type": "stream",
     "text": [
      "100%|██████████| 152/152 [00:00<00:00, 3822.95it/s]\n",
      "100%|██████████| 63/63 [00:00<00:00, 2902.57it/s]\n"
     ]
    },
    {
     "name": "stdout",
     "output_type": "stream",
     "text": [
      "found 178 labels and 139 negative labels in nn06b_20201005_000100.wav\n"
     ]
    },
    {
     "name": "stderr",
     "output_type": "stream",
     "text": [
      "100%|██████████| 178/178 [00:00<00:00, 4664.71it/s]\n",
      "100%|██████████| 139/139 [00:00<00:00, 3662.83it/s]\n"
     ]
    },
    {
     "name": "stdout",
     "output_type": "stream",
     "text": [
      "found 97 labels and 61 negative labels in nn08c_20200104_000000.wav\n"
     ]
    },
    {
     "name": "stderr",
     "output_type": "stream",
     "text": [
      "100%|██████████| 97/97 [00:00<00:00, 4777.28it/s]\n",
      "100%|██████████| 61/61 [00:00<00:00, 4113.78it/s]\n"
     ]
    },
    {
     "name": "stdout",
     "output_type": "stream",
     "text": [
      "found 21 labels and 35 negative labels in nn02d_20201013_000100.wav\n"
     ]
    },
    {
     "name": "stderr",
     "output_type": "stream",
     "text": [
      "100%|██████████| 21/21 [00:00<00:00, 4535.55it/s]\n",
      "100%|██████████| 35/35 [00:00<00:00, 3783.81it/s]\n"
     ]
    },
    {
     "name": "stdout",
     "output_type": "stream",
     "text": [
      "found 34 labels and 31 negative labels in nn06b_20180126_000000.wav\n"
     ]
    },
    {
     "name": "stderr",
     "output_type": "stream",
     "text": [
      "100%|██████████| 34/34 [00:00<00:00, 4595.46it/s]\n",
      "100%|██████████| 31/31 [00:00<00:00, 3532.96it/s]\n"
     ]
    },
    {
     "name": "stdout",
     "output_type": "stream",
     "text": [
      "found 41 labels and 33 negative labels in nn02d_20180112_000000.wav\n"
     ]
    },
    {
     "name": "stderr",
     "output_type": "stream",
     "text": [
      "100%|██████████| 41/41 [00:00<00:00, 4434.98it/s]\n",
      "100%|██████████| 33/33 [00:00<00:00, 3802.21it/s]\n"
     ]
    },
    {
     "name": "stdout",
     "output_type": "stream",
     "text": [
      "found 65 labels and 33 negative labels in nn07c_20180110_000000.wav\n"
     ]
    },
    {
     "name": "stderr",
     "output_type": "stream",
     "text": [
      "100%|██████████| 65/65 [00:00<00:00, 4787.18it/s]\n",
      "100%|██████████| 33/33 [00:00<00:00, 3365.89it/s]\n"
     ]
    },
    {
     "name": "stdout",
     "output_type": "stream",
     "text": [
      "found 15 labels and 14 negative labels in nn01c_20180111_000000.wav\n"
     ]
    },
    {
     "name": "stderr",
     "output_type": "stream",
     "text": [
      "100%|██████████| 15/15 [00:00<00:00, 4274.38it/s]\n",
      "100%|██████████| 14/14 [00:00<00:00, 3515.13it/s]\n"
     ]
    },
    {
     "name": "stdout",
     "output_type": "stream",
     "text": [
      "found 30 labels and 18 negative labels in nn06d_20200118_000000.wav\n"
     ]
    },
    {
     "name": "stderr",
     "output_type": "stream",
     "text": [
      "100%|██████████| 30/30 [00:00<00:00, 3563.45it/s]\n",
      "100%|██████████| 18/18 [00:00<00:00, 2434.77it/s]\n"
     ]
    },
    {
     "name": "stdout",
     "output_type": "stream",
     "text": [
      "found 39 labels and 39 negative labels in nn03e_20181015_000000.wav\n"
     ]
    },
    {
     "name": "stderr",
     "output_type": "stream",
     "text": [
      "100%|██████████| 39/39 [00:00<00:00, 4588.31it/s]\n",
      "100%|██████████| 39/39 [00:00<00:00, 3417.63it/s]\n"
     ]
    },
    {
     "name": "stdout",
     "output_type": "stream",
     "text": [
      "found 20 labels and 7 negative labels in nn10a_20191006_000000.wav\n"
     ]
    },
    {
     "name": "stderr",
     "output_type": "stream",
     "text": [
      "100%|██████████| 20/20 [00:00<00:00, 4330.95it/s]\n",
      "100%|██████████| 7/7 [00:00<00:00, 3636.83it/s]\n"
     ]
    },
    {
     "name": "stdout",
     "output_type": "stream",
     "text": [
      "initially, the shapes were torch.Size([66252, 768]) torch.Size([226198, 768])\n",
      "or a ratio of 3.414206363581477\n",
      "from 33 found torch.Size([66252, 768]) positive and torch.Size([66252, 768]) negatives\n"
     ]
    }
   ],
   "source": [
    "testing_files = raven_file_helper.get_files_from_test_folder()\n",
    "print(testing_files[0:3],\"...\")\n",
    "testing_dataset = make_dataset(testing_files)\n",
    "\n",
    "#this_pred,best_true,best_scores = get_predictions(best_classifier, val_loader2, 'cpu')\n"
   ]
  },
  {
   "cell_type": "markdown",
   "metadata": {},
   "source": [
    "## Visualize metrics"
   ]
  },
  {
   "cell_type": "code",
   "execution_count": 52,
   "metadata": {},
   "outputs": [],
   "source": [
    "import numpy as np\n",
    "from sklearn.metrics import f1_score\n",
    "import sklearn.metrics\n",
    "import numpy as np\n",
    "import matplotlib.pyplot as plt\n",
    "from sklearn.metrics import DetCurveDisplay, RocCurveDisplay\n",
    "from sklearn.metrics import precision_recall_curve\n",
    "from sklearn.metrics import PrecisionRecallDisplay\n",
    "from sklearn.metrics import confusion_matrix\n",
    "from sklearn.metrics import ConfusionMatrixDisplay\n",
    "import torch\n",
    "import numpy as np\n",
    "from sklearn.metrics import confusion_matrix\n",
    "import matplotlib.pyplot as plt\n",
    "import seaborn as sns\n"
   ]
  },
  {
   "cell_type": "code",
   "execution_count": 53,
   "metadata": {},
   "outputs": [],
   "source": [
    "\n",
    "def get_predictions(model, dataloader, device):\n",
    "    model.eval()\n",
    "    all_predictions = []\n",
    "    all_labels = []\n",
    "    all_outputs = []\n",
    "    \n",
    "    with torch.no_grad():\n",
    "        for inputs, labels in dataloader:\n",
    "            inputs = inputs.to(device)\n",
    "            outputs = model(inputs)\n",
    "            _, predictions = torch.max(outputs, 1)\n",
    "            \n",
    "            all_predictions.extend(predictions.cpu().numpy())\n",
    "            all_labels.extend(labels.cpu().numpy())\n",
    "            all_outputs.extend(outputs.cpu().numpy())\n",
    "    \n",
    "    return np.array(all_predictions), np.array(all_labels), np.array(all_outputs)\n",
    "\n",
    "\n",
    "#plot_confusion_matrix(y_true, y_pred, ['R','N'])\n"
   ]
  },
  {
   "cell_type": "code",
   "execution_count": 54,
   "metadata": {},
   "outputs": [
    {
     "name": "stdout",
     "output_type": "stream",
     "text": [
      "[0, 1, 1, 0, 0, 0, 1, 1, 1, 0, 1, 0, 0, 0, 1, 0, 1, 0, 1, 0, 1, 1, 1, 1, 1, 1, 1, 1, 1, 1, 1, 0, 1, 1, 1, 1, 0, 1, 1, 0, 1, 1, 1, 0, 1, 0, 0, 0, 0, 1, 1, 1, 1, 0, 0, 0, 0, 1, 0, 1, 0, 1, 1, 0, 1, 1, 0, 1, 1, 1, 0, 1, 0, 0, 0, 1, 0, 0, 0, 0, 1, 1, 0, 0, 1, 1, 0, 0, 0, 1, 0, 0, 0, 1, 1, 0, 1, 1, 1, 1]\n",
      "[0, 1, 1, 0, 0, 0, 1, 1, 1, 0, 1, 1, 0, 0, 1, 0, 1, 0, 1, 0, 1, 1, 1, 1, 1, 1, 1, 1, 1, 1, 1, 0, 1, 1, 1, 1, 0, 1, 1, 0, 1, 1, 1, 0, 1, 0, 0, 0, 0, 1, 1, 1, 1, 0, 0, 0, 0, 1, 0, 1, 0, 1, 1, 0, 1, 1, 0, 1, 1, 1, 0, 1, 0, 0, 0, 1, 0, 0, 0, 0, 1, 1, 0, 0, 1, 1, 0, 0, 0, 1, 0, 0, 0, 1, 1, 0, 1, 1, 1, 1]\n",
      "[0, 1, 1, 0, 0, 0, 1, 1, 1, 0, 1, 1, 0, 0, 1, 0, 1, 0, 1, 0, 1, 1, 1, 1, 1, 1, 1, 1, 1, 1, 1, 0, 1, 1, 1, 1, 0, 1, 1, 0, 1, 1, 1, 0, 1, 0, 0, 0, 0, 1, 1, 1, 1, 0, 0, 0, 0, 1, 0, 1, 0, 1, 1, 0, 1, 1, 0, 1, 1, 1, 0, 1, 0, 0, 0, 1, 0, 0, 0, 0, 1, 1, 0, 0, 1, 1, 0, 0, 0, 1, 0, 0, 0, 1, 0, 0, 1, 1, 1, 1]\n"
     ]
    }
   ],
   "source": [
    "\n",
    "\n",
    "val_loader2  = DataLoader(test_ds, batch_size=1000, shuffle=False, num_workers=0)\n",
    "\n",
    "\n",
    "best_classifier = eri.ElephantRumbleClassifier()\n",
    "best_model_name = \"elephant_rumble_classifier_500_192_2024-06-29T23:39:01.415771_valloss=5.83.pth\"\n",
    "best_classifier.load_pretrained_weights(best_model_name)\n",
    "best_pred,best_true,best_scores = get_predictions(best_classifier, val_loader2, 'cpu')\n",
    "\n",
    "this_pred,this_true,this_scores = get_predictions(my_classifier, val_loader2, 'cpu')\n",
    "\n",
    "print(best_true[0:100].tolist())\n",
    "print(best_pred[0:100].tolist())\n",
    "print(this_pred[0:100].tolist())\n",
    "\n"
   ]
  },
  {
   "cell_type": "code",
   "execution_count": 55,
   "metadata": {},
   "outputs": [
    {
     "name": "stdout",
     "output_type": "stream",
     "text": [
      "              precision    recall  f1-score   support\n",
      "\n",
      "         not       0.97      0.99      0.98     18420\n",
      "         rum       0.99      0.97      0.98     18410\n",
      "\n",
      "    accuracy                           0.98     36830\n",
      "   macro avg       0.98      0.98      0.98     36830\n",
      "weighted avg       0.98      0.98      0.98     36830\n",
      "\n"
     ]
    }
   ],
   "source": [
    "from sklearn.metrics import classification_report\n",
    "target_names = ['not','rum']\n",
    "print(classification_report(this_true, this_pred, target_names=target_names))"
   ]
  },
  {
   "cell_type": "code",
   "execution_count": 56,
   "metadata": {},
   "outputs": [
    {
     "name": "stdout",
     "output_type": "stream",
     "text": [
      "              precision    recall  f1-score   support\n",
      "\n",
      "         not       0.98      0.98      0.98     18420\n",
      "         rum       0.98      0.99      0.98     18410\n",
      "\n",
      "    accuracy                           0.98     36830\n",
      "   macro avg       0.98      0.98      0.98     36830\n",
      "weighted avg       0.98      0.98      0.98     36830\n",
      "\n"
     ]
    }
   ],
   "source": [
    "from sklearn.metrics import classification_report\n",
    "target_names = ['not','rum']\n",
    "print(classification_report(this_true, best_pred, target_names=target_names))"
   ]
  },
  {
   "cell_type": "code",
   "execution_count": 57,
   "metadata": {},
   "outputs": [
    {
     "data": {
      "image/png": "[encoded data removed]",
      "text/plain": [
       "<Figure size 1800x400 with 5 Axes>"
      ]
     },
     "metadata": {},
     "output_type": "display_data"
    }
   ],
   "source": [
    "\n",
    "def show_metrics(y_test, y_pred, scores, title):\n",
    "\n",
    "  fig, [ax_roc, ax_det, ax_prd, ax_con] = plt.subplots(1, 4, figsize=(18, 4))\n",
    "\n",
    "  RocCurveDisplay.from_predictions(y_test, scores, ax=ax_roc, name=\"test1\")\n",
    "  DetCurveDisplay.from_predictions(y_test, scores, ax=ax_det, name=\"test1\")\n",
    "\n",
    "  prec, recall, _ = precision_recall_curve(y_test, scores, pos_label=1)\n",
    "  pr_display = PrecisionRecallDisplay(precision=prec, recall=recall)\n",
    "  pr_display.plot(ax=ax_prd, name=\"test1\")\n",
    "\n",
    "  ax_roc.set_title(\"Receiver Operating Characteristic (ROC) curves\")\n",
    "  ax_det.set_title(\"Detection Error Tradeoff (DET) curves\")\n",
    "  ax_prd.set_title(\"Precision/Recall Tradeoff (PR) curves\")\n",
    "  ax_con.set_title(\"Confusion Matrix\")\n",
    "\n",
    "  cm = confusion_matrix(y_test, y_pred)\n",
    "  cm_display = ConfusionMatrixDisplay(cm).plot(ax=ax_con)\n",
    "\n",
    "  for ax in [ax_roc, ax_det, ax_prd]:\n",
    "      ax.grid(linestyle=\"--\")\n",
    "  fig.suptitle(title)\n",
    "\n",
    "  plt.show()\n",
    "\n",
    "show_metrics(this_true, this_pred, this_scores[:,1], \"My Main Title\")"
   ]
  },
  {
   "cell_type": "markdown",
   "metadata": {},
   "source": [
    "##"
   ]
  },
  {
   "cell_type": "code",
   "execution_count": 58,
   "metadata": {},
   "outputs": [
    {
     "data": {
      "image/png": "[encoded data removed]",
      "text/plain": [
       "<Figure size 1800x400 with 5 Axes>"
      ]
     },
     "metadata": {},
     "output_type": "display_data"
    }
   ],
   "source": [
    "show_metrics(best_true, best_pred, best_scores[:,1], \"My Main Title\")"
   ]
  },
  {
   "cell_type": "code",
   "execution_count": null,
   "metadata": {},
   "outputs": [],
   "source": []
  },
  {
   "cell_type": "code",
   "execution_count": null,
   "metadata": {},
   "outputs": [],
   "source": []
  },
  {
   "cell_type": "markdown",
   "metadata": {},
   "source": [
    "## Deprecated Training Notes."
   ]
  },
  {
   "cell_type": "markdown",
   "metadata": {},
   "source": []
  },
  {
   "cell_type": "code",
   "execution_count": 26,
   "metadata": {},
   "outputs": [],
   "source": [
    "# #visualization_helper.visualize_similarity_on_spectrogams(audio_file,labels, start_time,duration,similarity,dissimilarity,modelname='simple_2_layer',sr=1000,n_fft=1024)\n",
    "\n",
    "# #interesting_embs, uninteresting_embs = get_embeddings_for_labels_in_file(audio_file)\n",
    "# interesting_files = [\n",
    "# 'nn07b_20191022_000000.wav',\n",
    "# 'nn07c_20180110_000000.wav',\n",
    "# 'nn02d_20181022_000000.wav',\n",
    "# 'CEB1_20111010_000000.wav',\n",
    "# 'dz_20120201_000000.wav' ,\n",
    "# 'dz_20120222_000000.wav' ,\n",
    "# 'nn02d_20181022_000000.wav',\n",
    "# 'dz_20120222_134648.wav',\n",
    "# 'nn04a_20200314_000000.wav',\n",
    "# 'nn03c_20180114_000000.wav', \n",
    "# ]\n",
    "# #interesting_files = raven_file_helper.get_files_with_high_quality_labels()\n",
    "# #interesting_files = raven_file_helper.get_files_with_low_quality_labels()\n",
    "# # interesting_files = [\n",
    "# #   'CEB1_20111010_000000.wav',\n",
    "# #   'dz_20120222_000000.wav' ,\n",
    "# # ]\n",
    "# audio_file = 'nn07b_20191022_000000.wav' # a hard one - lots of background noise\n",
    "# audio_file = 'nn07c_20180110_000000.wav'\n",
    "# # audio_file = 'nn02d_20181022_000000.wav' do this one too\n",
    "# audio_file = 'CEB1_20111010_000000.wav'\n",
    "# audio_file = 'dz_20120201_000000.wav' \n",
    "# audio_file = 'dz_20120222_000000.wav' \n",
    "# audio_file = 'nn02d_20181022_000000.wav' # An annoying plane at the very start confuses the classifier\n",
    "# #audio_file = 'dz_20120222_134648.wav'  # a chance of finding missing ones at around 00:19:00\n",
    "# audio_file = 'nn04a_20200314_000000.wav'  # chance for finding missing one around 07:04:30 \n",
    "# audio_file = 'nn03c_20180114_000000.wav' # Totally a rumble at 12:24:45\n",
    "\n",
    "\n",
    "# ## low_quality_labels classifier is finding ones at 4:30 in spec_nn04a_20200314 !!!!!\n",
    "\n",
    "# audio_file='CEB1_20111010_000000.wav'  # in this file a plane passes from 35:00 - 39:30\n",
    "# audio_file = 'dz_20120222_000000.wav'\n",
    "# audio_file = raven_file_helper.get_files_with_high_quality_labels()[0]\n",
    "\n",
    "\n",
    "# interesting_embs, uninteresting_embs = get_embeddings_for_labels_in_file(audio_file)\n",
    "\n",
    "\n",
    "# start_time = 0\n",
    "# duration = 60 * 60\n",
    "# labels = raven_file_helper.get_all_labels_for_wav_file(audio_file).fetchall()\n",
    "# first_interesting_hour = int(labels[0][0]//60//60)\n",
    "# print(f\"the first interesting hour of {audio_file} is {first_interesting_hour}:00:00\")\n",
    "# start_time = 60 * 60 * first_interesting_hour\n",
    "# first_hour_embs = get_aves_embeddings_from_file_with_buffers(audio_file,start_time, duration,100,30,sr=AVES_SR).to('cpu')\n",
    "# multi_similarity = first_hour_embs @ interesting_embs.T\n",
    "# multi_dissimilarity = first_hour_embs @ uninteresting_embs.T\n",
    "\n",
    "# similarity = einops.reduce(multi_similarity, 'h w -> h', 'max')\n",
    "# dissimilarity = einops.reduce(multi_dissimilarity, 'h w -> h', 'max')\n",
    "\n",
    "# visualization_helper.visualize_similarity_on_spectrogams(\n",
    "#     audio_file, start_time,duration,similarity,\n",
    "#     dissimilarity,sr=500,n_fft=512,modelname=\"AVES_base_model\")\n",
    "\n",
    "# important_negative_labels = [\n",
    "#     (\"nn10a_20191006_000000.wav\",(16,0,50),(16,1,10), \"thunder?\"),\n",
    "#     (\"nn10a_20191006_000000.wav\",(16,2,35),(16,2,45), \"thunder?\"),\n",
    "#     (\"nn10a_20191006_000000.wav\",(16,14,00),(16,14,20), \"thunder?\"),\n",
    "#     (\"nn08c_20201005_000100.wav\",(19,54,00),(19,54,57), \"nn_background_noise\"),\n",
    "#     (\"nn08c_20200104_000100.wav\",(13,44,00),(13,46,00), \"nn_background_noise\"),\n",
    "#     (\"nn08c_20200104_000100.wav\",(13,10,30),(13,13,30), \"nn_background_noise\"),\n",
    "#     (\"nn02d_20181022_000000.wav\",(0,0,0),(0,30,0),\"airplane\"),# Note there's an elephant in the middle\n",
    "#     (\"nn02d_20181022_000000.wav\",(0,1,40),(3,30,0),\"airplane\"),# Note there's an elephant in the middle\n",
    "#     (\"CEB1_20111010_000000.wav\",(00,36,30),(00,39,30), \"airplane\"),\n",
    "#     (\"dz_20120222_134648.wav\",(0,0,0),(5,0,0),\"thunder?\"), # but soon after, elephants\n",
    "#     (\"nn06b_20201005_000100.wav\",(17,1,30),(17,7,0),\"other animal\"),  #buffalo?\n",
    "#     # nn03c_20180114_000000.wav - thunder?\n",
    "# ]\n",
    "# important_negative_labels\n"
   ]
  },
  {
   "cell_type": "markdown",
   "metadata": {},
   "source": [
    "\n",
    "* Use original Raven files for the positive labels.\n",
    "* Generate negative labels close-in-time to the positive labels.\n",
    "* resample all audio files to 1kHz\n",
    "* save as pytorch float16 audio files\n",
    "* Pre-compute AVES/Hubert embeddings. \n",
    "\n",
    "https://arxiv.org/pdf/2106.07447\n",
    "```\n",
    "The convolutional waveform encoder generates a feature\n",
    "sequence at a 20ms framerate for audio sampled at 16kHz\n",
    "(CNN encoder down-sampling factor is 320x).\n",
    "```\n",
    "\n",
    "* (this model does poorly on nn08c unless more nn* files are added to the training data)\n",
    "* (false positive on spec_nn03c_20180114 at 27:30 looks like a different kind of animal?)\n",
    "* (strange sounds in spec_nn06b???? --- good the classifier ignores most of them)\n",
    "* Found an animal in nn03e_20181015 at 13:53:00 --- buffalo?\n",
    "* Found an animal in nn01c_20180111 at 05:44:00 --- elephant - it looks similar to the ones later in the same signal\n",
    "* in nn_06b_20201030_00100.wav_14:00 14ound 14:51:00 it curiously ignores the labeled rumble but hallucinates nearby ones?!\n",
    "* in dz20120201_0000.wav at 00:18:00 it finds one before the labeled one.\n",
    "* dz_20120222_000000.wav 00:28:00 totally looks like rumbles\n"
   ]
  },
  {
   "cell_type": "markdown",
   "metadata": {},
   "source": [
    "More training notes....\n",
    "\n",
    "Tried each of these:\n",
    "\n",
    "```\n",
    "    number of hidden layers\n",
    "    hidden_layer_dim = 25 # good\n",
    "    hidden_layer_dim = 100 # significantly better than 25\n",
    "    hidden_layer_dim1,hidden_layer_dim2 = 25,25 # Trains much faster than a single layer of 100, but validation curvy is noisy\n",
    "    hidden_layer_dim1,hidden_layer_dim2 = 100,25 # Overfits like crazy with the Adam optimizer\n",
    "    hidden_layer_dim1,hidden_layer_dim2 = 25,25 #\n",
    "    hidden_layer_dim1,hidden_layer_dim2 = 100,2 # Best model yet at Epoch 10 with Adam -- but it quickly overfits\n",
    "    hidden_layer_dim1,hidden_layer_dim2 = 10,2\n",
    "    hidden_layer_dim1,hidden_layer_dim2 = 10,10\n",
    "    hidden_layer_dim1,hidden_layer_dim2 = 50,10 # pretty good up to epoch 14\n",
    "    hidden_layer_dim1,hidden_layer_dim2 = 100,2 # feels very similar to 50,10\n",
    "    hidden_layer_dim1,hidden_layer_dim2 = 25,25 # very noisy validation\n",
    "    hidden_layer_dim1,hidden_layer_dim2 = 81,9  # roughly cube root of input dim  Best around 9 epochs, but blows up badly by epoch 14.\n",
    "    hidden_layer_dim1,hidden_layer_dim2 = 33,6  # Best validation of all so far at epoch 15.\n",
    "    hidden_layer_dim1,hidden_layer_dim2 = 100,None  # 1 layer -- best of all at epoch 10\n",
    "    hidden_layer_dim1,hidden_layer_dim2 = 10,None  # takes forever to train\n",
    "    hidden_layer_dim1,hidden_layer_dim2 = 20,None  # takes forever to train\n",
    "    hidden_layer_dim1,hidden_layer_dim2 = input_dim,None  # The second best of all at epoch 7, but quickly overfits.\n",
    "    hidden_layer_dim1,hidden_layer_dim2 = input_dim//2,None  # The best of all at epoch 8, and slowly overfits\n",
    "    hidden_layer_dim1,hidden_layer_dim2 = input_dim//4,None  # Getting worse; kinda like 100,None\n",
    "    hidden_layer_dim1,hidden_layer_dim2 = input_dim*2,None  # Really slow.\n",
    "    hidden_layer_dim1,hidden_layer_dim2 = 2,None  # very low quality\n",
    "    hidden_layer_dim1,hidden_layer_dim2 = input_dim//2,None  # best so far - stop at epoch 8 or so with no dropout\n",
    "\n",
    "    # With: hidden_layer_dim = 25  , output_dim = 2\n",
    "    LeakyReLU trains much faster than sigmoid. GELU is in between.\n",
    "    With the larger low quality label dataset, they're still improving after 4 minutes.\n",
    "\n",
    "\n",
    "    \"\"\"\n",
    "     Don't bother with single-layer or 3-layer networks. \n",
    "     See tests on Jun 29.\n",
    "    \"\"\"\n",
    "    \n",
    "    ### class MyNetwork(nn.Module):\n",
    "    ### def __init__(self):\n",
    "    ###     super(MyNetwork, self).__init__()\n",
    "    ###     self.act = nn.LeakyReLU()\n",
    "    ###     self.linear1 = nn.Linear(input_dim, hidden_layer_dim1)\n",
    "    ###     self.linear2 = nn.Linear(hidden_layer_dim1, hidden_layer_dim2)\n",
    "    ###     self.linear3 = nn.Linear(hidden_layer_dim2, output_dim)\n",
    "    ### def forward(self, x):\n",
    "    ###     x = self.linear1(x)\n",
    "    ###     x = self.act(x)\n",
    "    ###     x = self.linear2(x)\n",
    "    ###     x = self.act(x)\n",
    "    ###     x = self.linear3(x)\n",
    "    ###     return x\n",
    "\n",
    "    For dropout  \n",
    "    0.0 dropout = bad overfitting by epoch 9\n",
    "    0.2 and 0.4 was pretty good applied to just the second layer\n",
    "    0.1 is too small if only applied on the second layer, near best if applied on both.\n",
    "    0.3 applied to both makes it converge slowly but with good validation results and never seems to overfit\n",
    "    0.2 applied to both makes it converge reasonably fast and seems stable through epoch 20\n",
    "    hidden_layer_dim1 = 24\n",
    "\n",
    "    hidden_layer_dim1,hidden_layer_dim2 = input_dim//4,None  # best so far - stop at epoch 8 or so with no dropout\n",
    "    hidden_layer_dim1 = input_dim//8 # with dropout, //8 is as good as //4 on files under Training\n",
    "    hidden_layer_dim1 = input_dim//4 # performed better on some other test/train splits\n",
    "```"
   ]
  },
  {
   "cell_type": "code",
   "execution_count": 27,
   "metadata": {},
   "outputs": [],
   "source": [
    "# \"\"\"\n",
    "#   TODO\n",
    "\n",
    "#     Do I need to pass past_key_value or key_value_states or hidden_states\n",
    "#     to the model for streaming?\n",
    "    \n",
    "#     * HuggingFace's transformers wave2vec2 seems to make it easy.\n",
    "#     * TorchAudio's Wave2Vec2Model seems to make it easy.\n",
    "#     * TorchAudio's wav2vec2_model seems to make it hard :(\n",
    "\n",
    "#     https://huggingface.co/docs/transformers/en/model_doc/wav2vec2#transformers.modeling_outputs.Wav2Vec2BaseModelOutput\n",
    "#     >> last_hidden_state ... hidden_states ...\n",
    "\n",
    "#     https://pytorch.org/audio/main/generated/torchaudio.models.Wav2Vec2Model.html\n",
    "\n",
    "#     # This guy seems to understand and explain well\n",
    "#     https://stackoverflow.com/questions/69266293/getting-embeddings-from-wav2vec2-models-in-huggingface\n",
    "\n"
   ]
  },
  {
   "cell_type": "code",
   "execution_count": 28,
   "metadata": {},
   "outputs": [],
   "source": [
    "TODO = \"\"\"\n",
    " We may need to hand-pick some negative labels from hour 7 of nn06b_20201005_00100.wav \n",
    " because overlapping elephant sounds and other animal sounds are causing confusion.\n",
    "\n",
    " Also need to hand-pick some negative samples from the low-frequency noise in \n",
    "    #audio_file = 'nn03c_20180114_000000.wav'\n",
    " around 12:13:30\n",
    "\"\"\""
   ]
  }
 ],
 "metadata": {
  "colab": {
   "provenance": []
  },
  "kernelspec": {
   "display_name": "elephant",
   "language": "python",
   "name": "elephant"
  },
  "language_info": {
   "codemirror_mode": {
    "name": "ipython",
    "version": 3
   },
   "file_extension": ".py",
   "mimetype": "text/x-python",
   "name": "python",
   "nbconvert_exporter": "python",
   "pygments_lexer": "ipython3",
   "version": "3.10.12"
  }
 },
 "nbformat": 4,
 "nbformat_minor": 4
}
