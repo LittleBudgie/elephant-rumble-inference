{
 "cells": [
  {
   "cell_type": "code",
   "execution_count": 14,
   "id": "c5289907-6d45-4e25-8acc-56a72a6fb365",
   "metadata": {},
   "outputs": [],
   "source": [
    "import elephant_rumble_inference as eri\n",
    "import torch\n",
    "import time"
   ]
  },
  {
   "cell_type": "code",
   "execution_count": 15,
   "id": "2b15f496-f2c0-4960-a43a-13da1c8183c6",
   "metadata": {},
   "outputs": [],
   "source": [
    "elephant_rumble_classifier = eri.ElephantRumbleClassifier().to('cpu')"
   ]
  },
  {
   "cell_type": "code",
   "execution_count": 16,
   "id": "ec87b732-7f06-47db-85ec-2cb1c306d19c",
   "metadata": {},
   "outputs": [
    {
     "data": {
      "text/plain": [
       "<All keys matched successfully>"
      ]
     },
     "execution_count": 16,
     "metadata": {},
     "output_type": "execute_result"
    }
   ],
   "source": [
    "elephant_rumble_classifier.load_state_dict(torch.load(\"/Users/suhanashri/Downloads/Cornell ELP research/rumble_detector/elephant-rumble-inference/model_files/2024-07-03.pth\"))"
   ]
  },
  {
   "cell_type": "code",
   "execution_count": 17,
   "id": "53d11c7a-2089-4241-8617-cacbaaa4215f",
   "metadata": {},
   "outputs": [
    {
     "data": {
      "text/plain": [
       "ElephantRumbleClassifier(\n",
       "  (act): LeakyReLU(negative_slope=0.01)\n",
       "  (linear1): Linear(in_features=768, out_features=192, bias=True)\n",
       "  (linear2): Linear(in_features=192, out_features=2, bias=True)\n",
       "  (dropout): Dropout(p=0.2, inplace=False)\n",
       ")"
      ]
     },
     "execution_count": 17,
     "metadata": {},
     "output_type": "execute_result"
    }
   ],
   "source": [
    "elephant_rumble_classifier.eval()"
   ]
  },
  {
   "cell_type": "code",
   "execution_count": 18,
   "id": "a99f2b78-eed3-4bd0-b063-8b05b7997fc7",
   "metadata": {},
   "outputs": [],
   "source": [
    "torchscript_model = torch.jit.script(elephant_rumble_classifier)"
   ]
  },
  {
   "cell_type": "code",
   "execution_count": 19,
   "id": "70af4640-0fc3-483b-9b0f-0a7939624f1a",
   "metadata": {},
   "outputs": [],
   "source": [
    "torch.jit.save(torchscript_model, 'torchscript_version.pt')"
   ]
  },
  {
   "cell_type": "code",
   "execution_count": null,
   "id": "7d6b4f5a-4798-4271-85b7-b255a21bec65",
   "metadata": {},
   "outputs": [],
   "source": []
  }
 ],
 "metadata": {
  "kernelspec": {
   "display_name": "Python 3 (ipykernel)",
   "language": "python",
   "name": "python3"
  },
  "language_info": {
   "codemirror_mode": {
    "name": "ipython",
    "version": 3
   },
   "file_extension": ".py",
   "mimetype": "text/x-python",
   "name": "python",
   "nbconvert_exporter": "python",
   "pygments_lexer": "ipython3",
   "version": "3.13.5"
  }
 },
 "nbformat": 4,
 "nbformat_minor": 5
}
